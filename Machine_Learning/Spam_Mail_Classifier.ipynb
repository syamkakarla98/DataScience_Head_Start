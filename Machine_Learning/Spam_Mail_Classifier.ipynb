{
  "nbformat": 4,
  "nbformat_minor": 0,
  "metadata": {
    "colab": {
      "name": "Spam_Mail_Classifier.ipynb",
      "provenance": [],
      "collapsed_sections": [],
      "mount_file_id": "1mnGEh0fI8y0-r0DrImfqbrz8QmzjjTex",
      "authorship_tag": "ABX9TyNPwQKSfaN8ev34sVlhMnhr",
      "include_colab_link": true
    },
    "kernelspec": {
      "name": "python3",
      "display_name": "Python 3"
    },
    "accelerator": "GPU"
  },
  "cells": [
    {
      "cell_type": "markdown",
      "metadata": {
        "id": "view-in-github",
        "colab_type": "text"
      },
      "source": [
        "<a href=\"https://colab.research.google.com/github/syamkakarla98/DataScience_Head_Start/blob/master/Machine_Learning/Spam_Mail_Classifier.ipynb\" target=\"_parent\"><img src=\"https://colab.research.google.com/assets/colab-badge.svg\" alt=\"Open In Colab\"/></a>"
      ]
    },
    {
      "cell_type": "markdown",
      "metadata": {
        "id": "O8cD5dBkuPuZ",
        "colab_type": "text"
      },
      "source": [
        "# **Spam Mail Classifier**\n",
        "\n",
        "![alt text](https://miro.medium.com/max/1536/1*mzIPUxnxbzdjlJusLnkNRQ.jpeg)"
      ]
    },
    {
      "cell_type": "markdown",
      "metadata": {
        "id": "cqK6knUiuht_",
        "colab_type": "text"
      },
      "source": [
        "## Import Libraries"
      ]
    },
    {
      "cell_type": "code",
      "metadata": {
        "id": "nE7pdbcyt5Ba",
        "colab_type": "code",
        "colab": {
          "base_uri": "https://localhost:8080/",
          "height": 34
        },
        "outputId": "2e240a3d-5a6c-4675-fe85-ae21e13b5f5a"
      },
      "source": [
        "# Handling Data\n",
        "import pandas as pd\n",
        "import numpy as np\n",
        "\n",
        "# Visialization\n",
        "import matplotlib.pyplot as plt\n",
        "import seaborn as sns\n",
        "sns.set_style('whitegrid')\n",
        "\n",
        "# For Text processing \n",
        "import nltk\n",
        "from nltk.corpus import stopwords \n",
        "from nltk.tokenize import word_tokenize\n",
        "# nltk.download('punkt')\n",
        "# nltk.download('stopwords')\n",
        "\n",
        "# ML\n",
        "from sklearn.model_selection import train_test_split\n",
        "from sklearn.feature_extraction.text import CountVectorizer\n",
        "from sklearn.linear_model import LogisticRegression\n",
        "\n",
        "#Accuracy Metrics\n",
        "from sklearn.metrics import accuracy_score, classification_report, confusion_matrix\n",
        "\n",
        "# Change to current working directory\n",
        "%cd /content/drive/My Drive/DataScience/Data_Science_Head_Start"
      ],
      "execution_count": 124,
      "outputs": [
        {
          "output_type": "stream",
          "text": [
            "/content/drive/My Drive/DataScience/Data_Science_Head_Start\n"
          ],
          "name": "stdout"
        }
      ]
    },
    {
      "cell_type": "markdown",
      "metadata": {
        "id": "S8F2Rzv9ObNl",
        "colab_type": "text"
      },
      "source": [
        "## Reading Data"
      ]
    },
    {
      "cell_type": "code",
      "metadata": {
        "id": "Qrz2mhZvuK6d",
        "colab_type": "code",
        "colab": {}
      },
      "source": [
        "df = pd.read_csv('data/Spam_Mail_Dataset.csv')\n",
        "# Removing Unnecessary column\n",
        "df.drop('Unnamed: 0', axis=1, inplace = True)\n",
        "# Changing column names\n",
        "df.columns = ['label', 'text', 'class']"
      ],
      "execution_count": 0,
      "outputs": []
    },
    {
      "cell_type": "code",
      "metadata": {
        "id": "4V4Ypj1SuxxR",
        "colab_type": "code",
        "colab": {
          "base_uri": "https://localhost:8080/",
          "height": 195
        },
        "outputId": "1c48b64b-130d-41b1-f543-1d3762e06d7e"
      },
      "source": [
        "df.head()"
      ],
      "execution_count": 3,
      "outputs": [
        {
          "output_type": "execute_result",
          "data": {
            "text/html": [
              "<div>\n",
              "<style scoped>\n",
              "    .dataframe tbody tr th:only-of-type {\n",
              "        vertical-align: middle;\n",
              "    }\n",
              "\n",
              "    .dataframe tbody tr th {\n",
              "        vertical-align: top;\n",
              "    }\n",
              "\n",
              "    .dataframe thead th {\n",
              "        text-align: right;\n",
              "    }\n",
              "</style>\n",
              "<table border=\"1\" class=\"dataframe\">\n",
              "  <thead>\n",
              "    <tr style=\"text-align: right;\">\n",
              "      <th></th>\n",
              "      <th>label</th>\n",
              "      <th>text</th>\n",
              "      <th>class</th>\n",
              "    </tr>\n",
              "  </thead>\n",
              "  <tbody>\n",
              "    <tr>\n",
              "      <th>0</th>\n",
              "      <td>ham</td>\n",
              "      <td>Subject: enron methanol ; meter # : 988291\\r\\n...</td>\n",
              "      <td>0</td>\n",
              "    </tr>\n",
              "    <tr>\n",
              "      <th>1</th>\n",
              "      <td>ham</td>\n",
              "      <td>Subject: hpl nom for january 9 , 2001\\r\\n( see...</td>\n",
              "      <td>0</td>\n",
              "    </tr>\n",
              "    <tr>\n",
              "      <th>2</th>\n",
              "      <td>ham</td>\n",
              "      <td>Subject: neon retreat\\r\\nho ho ho , we ' re ar...</td>\n",
              "      <td>0</td>\n",
              "    </tr>\n",
              "    <tr>\n",
              "      <th>3</th>\n",
              "      <td>spam</td>\n",
              "      <td>Subject: photoshop , windows , office . cheap ...</td>\n",
              "      <td>1</td>\n",
              "    </tr>\n",
              "    <tr>\n",
              "      <th>4</th>\n",
              "      <td>ham</td>\n",
              "      <td>Subject: re : indian springs\\r\\nthis deal is t...</td>\n",
              "      <td>0</td>\n",
              "    </tr>\n",
              "  </tbody>\n",
              "</table>\n",
              "</div>"
            ],
            "text/plain": [
              "  label                                               text  class\n",
              "0   ham  Subject: enron methanol ; meter # : 988291\\r\\n...      0\n",
              "1   ham  Subject: hpl nom for january 9 , 2001\\r\\n( see...      0\n",
              "2   ham  Subject: neon retreat\\r\\nho ho ho , we ' re ar...      0\n",
              "3  spam  Subject: photoshop , windows , office . cheap ...      1\n",
              "4   ham  Subject: re : indian springs\\r\\nthis deal is t...      0"
            ]
          },
          "metadata": {
            "tags": []
          },
          "execution_count": 3
        }
      ]
    },
    {
      "cell_type": "code",
      "metadata": {
        "id": "mhZnmyp8vsya",
        "colab_type": "code",
        "colab": {
          "base_uri": "https://localhost:8080/",
          "height": 34
        },
        "outputId": "86e17c38-2fd7-4553-d666-438feed23b48"
      },
      "source": [
        "df.shape"
      ],
      "execution_count": 4,
      "outputs": [
        {
          "output_type": "execute_result",
          "data": {
            "text/plain": [
              "(5171, 3)"
            ]
          },
          "metadata": {
            "tags": []
          },
          "execution_count": 4
        }
      ]
    },
    {
      "cell_type": "code",
      "metadata": {
        "id": "eKUn0dTczAv1",
        "colab_type": "code",
        "colab": {
          "base_uri": "https://localhost:8080/",
          "height": 151
        },
        "outputId": "ce0da8c6-1104-4cb6-a027-386f095cbd64"
      },
      "source": [
        "df.info()"
      ],
      "execution_count": 5,
      "outputs": [
        {
          "output_type": "stream",
          "text": [
            "<class 'pandas.core.frame.DataFrame'>\n",
            "RangeIndex: 5171 entries, 0 to 5170\n",
            "Data columns (total 3 columns):\n",
            "label    5171 non-null object\n",
            "text     5171 non-null object\n",
            "class    5171 non-null int64\n",
            "dtypes: int64(1), object(2)\n",
            "memory usage: 121.3+ KB\n"
          ],
          "name": "stdout"
        }
      ]
    },
    {
      "cell_type": "code",
      "metadata": {
        "id": "sONgIfWCzH7o",
        "colab_type": "code",
        "colab": {
          "base_uri": "https://localhost:8080/",
          "height": 84
        },
        "outputId": "af497a07-63d3-4ca9-fda8-edf0eba3752b"
      },
      "source": [
        "# No NaN in the data\n",
        "df.isna().sum()"
      ],
      "execution_count": 6,
      "outputs": [
        {
          "output_type": "execute_result",
          "data": {
            "text/plain": [
              "label    0\n",
              "text     0\n",
              "class    0\n",
              "dtype: int64"
            ]
          },
          "metadata": {
            "tags": []
          },
          "execution_count": 6
        }
      ]
    },
    {
      "cell_type": "code",
      "metadata": {
        "id": "DB9ifKO7v7ji",
        "colab_type": "code",
        "colab": {
          "base_uri": "https://localhost:8080/",
          "height": 388
        },
        "outputId": "de2e91d1-c700-4676-bdf7-e177eb09f661"
      },
      "source": [
        "# Barplot describes the count of the class labels\n",
        "plt.figure(figsize = (12, 6))\n",
        "sns.countplot(data = df, x = 'label');"
      ],
      "execution_count": 7,
      "outputs": [
        {
          "output_type": "display_data",
          "data": {
            "image/png": "[encoded data removed]",
            "text/plain": [
              "<Figure size 864x432 with 1 Axes>"
            ]
          },
          "metadata": {
            "tags": []
          }
        }
      ]
    },
    {
      "cell_type": "markdown",
      "metadata": {
        "id": "4BZWS-zY2h_M",
        "colab_type": "text"
      },
      "source": [
        "## Remove stopwords from the data"
      ]
    },
    {
      "cell_type": "code",
      "metadata": {
        "id": "h7GU-Mhj3RYH",
        "colab_type": "code",
        "colab": {
          "base_uri": "https://localhost:8080/",
          "height": 50
        },
        "outputId": "d6a1a6af-6bed-4ca3-c15d-b370d0ae35b2"
      },
      "source": [
        "%%time\n",
        "stop_words = set(stopwords.words('english')) \n",
        "\n",
        "df['text'] = df['text'].apply(lambda x: ' '.join([ word for word in word_tokenize(x)  if not word in stop_words]))"
      ],
      "execution_count": 8,
      "outputs": [
        {
          "output_type": "stream",
          "text": [
            "CPU times: user 6.97 s, sys: 22.9 ms, total: 6.99 s\n",
            "Wall time: 7.01 s\n"
          ],
          "name": "stdout"
        }
      ]
    },
    {
      "cell_type": "code",
      "metadata": {
        "id": "JQinq_gr4Gtk",
        "colab_type": "code",
        "colab": {
          "base_uri": "https://localhost:8080/",
          "height": 343
        },
        "outputId": "e270f616-afab-41e2-88ac-c1d4d94a8ac0"
      },
      "source": [
        "df.sample(10)"
      ],
      "execution_count": 9,
      "outputs": [
        {
          "output_type": "execute_result",
          "data": {
            "text/html": [
              "<div>\n",
              "<style scoped>\n",
              "    .dataframe tbody tr th:only-of-type {\n",
              "        vertical-align: middle;\n",
              "    }\n",
              "\n",
              "    .dataframe tbody tr th {\n",
              "        vertical-align: top;\n",
              "    }\n",
              "\n",
              "    .dataframe thead th {\n",
              "        text-align: right;\n",
              "    }\n",
              "</style>\n",
              "<table border=\"1\" class=\"dataframe\">\n",
              "  <thead>\n",
              "    <tr style=\"text-align: right;\">\n",
              "      <th></th>\n",
              "      <th>label</th>\n",
              "      <th>text</th>\n",
              "      <th>class</th>\n",
              "    </tr>\n",
              "  </thead>\n",
              "  <tbody>\n",
              "    <tr>\n",
              "      <th>4313</th>\n",
              "      <td>ham</td>\n",
              "      <td>Subject : fw : tenaska iv meeting list . xls f...</td>\n",
              "      <td>0</td>\n",
              "    </tr>\n",
              "    <tr>\n",
              "      <th>2448</th>\n",
              "      <td>ham</td>\n",
              "      <td>Subject : tenaska iv - - cleburne march 2001 s...</td>\n",
              "      <td>0</td>\n",
              "    </tr>\n",
              "    <tr>\n",
              "      <th>5028</th>\n",
              "      <td>ham</td>\n",
              "      <td>Subject : hpl nom march 29 , 2001 ( see attach...</td>\n",
              "      <td>0</td>\n",
              "    </tr>\n",
              "    <tr>\n",
              "      <th>3612</th>\n",
              "      <td>ham</td>\n",
              "      <td>Subject : eastrans nomination change effective...</td>\n",
              "      <td>0</td>\n",
              "    </tr>\n",
              "    <tr>\n",
              "      <th>4845</th>\n",
              "      <td>ham</td>\n",
              "      <td>Subject : cleburne daren &amp; john , see attached...</td>\n",
              "      <td>0</td>\n",
              "    </tr>\n",
              "    <tr>\n",
              "      <th>4775</th>\n",
              "      <td>ham</td>\n",
              "      <td>Subject : new email yo bro . new email address...</td>\n",
              "      <td>0</td>\n",
              "    </tr>\n",
              "    <tr>\n",
              "      <th>97</th>\n",
              "      <td>ham</td>\n",
              "      <td>Subject : hpl nom march 27 , 2001 ( see attach...</td>\n",
              "      <td>0</td>\n",
              "    </tr>\n",
              "    <tr>\n",
              "      <th>2840</th>\n",
              "      <td>ham</td>\n",
              "      <td>Subject : fyi - lubrizol - april lst changeove...</td>\n",
              "      <td>0</td>\n",
              "    </tr>\n",
              "    <tr>\n",
              "      <th>4715</th>\n",
              "      <td>ham</td>\n",
              "      <td>Subject : hpl nom sept . 20 , 2000 ( see attac...</td>\n",
              "      <td>0</td>\n",
              "    </tr>\n",
              "    <tr>\n",
              "      <th>2560</th>\n",
              "      <td>ham</td>\n",
              "      <td>Subject : new carthage phys product eol hey ro...</td>\n",
              "      <td>0</td>\n",
              "    </tr>\n",
              "  </tbody>\n",
              "</table>\n",
              "</div>"
            ],
            "text/plain": [
              "     label                                               text  class\n",
              "4313   ham  Subject : fw : tenaska iv meeting list . xls f...      0\n",
              "2448   ham  Subject : tenaska iv - - cleburne march 2001 s...      0\n",
              "5028   ham  Subject : hpl nom march 29 , 2001 ( see attach...      0\n",
              "3612   ham  Subject : eastrans nomination change effective...      0\n",
              "4845   ham  Subject : cleburne daren & john , see attached...      0\n",
              "4775   ham  Subject : new email yo bro . new email address...      0\n",
              "97     ham  Subject : hpl nom march 27 , 2001 ( see attach...      0\n",
              "2840   ham  Subject : fyi - lubrizol - april lst changeove...      0\n",
              "4715   ham  Subject : hpl nom sept . 20 , 2000 ( see attac...      0\n",
              "2560   ham  Subject : new carthage phys product eol hey ro...      0"
            ]
          },
          "metadata": {
            "tags": []
          },
          "execution_count": 9
        }
      ]
    },
    {
      "cell_type": "code",
      "metadata": {
        "id": "63JwhjEF0WxE",
        "colab_type": "code",
        "colab": {
          "base_uri": "https://localhost:8080/",
          "height": 50
        },
        "outputId": "dc8aaf36-8208-4b45-d712-e4fb305a6be4"
      },
      "source": [
        "X = df.loc[:, 'text']\n",
        "y = df.loc[:, 'class']\n",
        "\n",
        "print(f\"Shape of X: {X.shape}\\nshape of y: {y.shape}\")"
      ],
      "execution_count": 10,
      "outputs": [
        {
          "output_type": "stream",
          "text": [
            "Shape of X: (5171,)\n",
            "shape of y: (5171,)\n"
          ],
          "name": "stdout"
        }
      ]
    },
    {
      "cell_type": "markdown",
      "metadata": {
        "id": "ydvg7VkF0FH-",
        "colab_type": "text"
      },
      "source": [
        "## Split data into **train** and **test** in 80:20"
      ]
    },
    {
      "cell_type": "code",
      "metadata": {
        "id": "0oACJb0FwgQo",
        "colab_type": "code",
        "colab": {}
      },
      "source": [
        "X_train, X_test, y_train, y_test = train_test_split(X, y, test_size=0.20, random_state=11)"
      ],
      "execution_count": 0,
      "outputs": []
    },
    {
      "cell_type": "code",
      "metadata": {
        "id": "Q8bb5GmWyaUA",
        "colab_type": "code",
        "colab": {
          "base_uri": "https://localhost:8080/",
          "height": 50
        },
        "outputId": "1d6c4a73-4030-4541-d3b6-fa26f97f98c7"
      },
      "source": [
        "print(f\"Train Data Shape: {X_train.shape}\\nTest Data Shape: {X_test.shape}\")"
      ],
      "execution_count": 12,
      "outputs": [
        {
          "output_type": "stream",
          "text": [
            "Train Data Shape: (4136,)\n",
            "Test Data Shape: (1035,)\n"
          ],
          "name": "stdout"
        }
      ]
    },
    {
      "cell_type": "markdown",
      "metadata": {
        "id": "Nj1asxUf1ceq",
        "colab_type": "text"
      },
      "source": [
        "## Preprocess text to build the ML mdel"
      ]
    },
    {
      "cell_type": "code",
      "metadata": {
        "id": "IeIRTO4k1Zmg",
        "colab_type": "code",
        "colab": {
          "base_uri": "https://localhost:8080/",
          "height": 118
        },
        "outputId": "473a3c9e-9ae6-40c6-a095-c5013d291d6c"
      },
      "source": [
        "cVect = CountVectorizer()\n",
        "cVect.fit(X_train)"
      ],
      "execution_count": 13,
      "outputs": [
        {
          "output_type": "execute_result",
          "data": {
            "text/plain": [
              "CountVectorizer(analyzer='word', binary=False, decode_error='strict',\n",
              "                dtype=<class 'numpy.int64'>, encoding='utf-8', input='content',\n",
              "                lowercase=True, max_df=1.0, max_features=None, min_df=1,\n",
              "                ngram_range=(1, 1), preprocessor=None, stop_words=None,\n",
              "                strip_accents=None, token_pattern='(?u)\\\\b\\\\w\\\\w+\\\\b',\n",
              "                tokenizer=None, vocabulary=None)"
            ]
          },
          "metadata": {
            "tags": []
          },
          "execution_count": 13
        }
      ]
    },
    {
      "cell_type": "markdown",
      "metadata": {
        "id": "IXpAECJD2I_S",
        "colab_type": "text"
      },
      "source": [
        "  Let's see the vocabulary that has extracted by hte count vextorizer"
      ]
    },
    {
      "cell_type": "code",
      "metadata": {
        "id": "bg-bwb7713_n",
        "colab_type": "code",
        "colab": {
          "base_uri": "https://localhost:8080/",
          "height": 34
        },
        "outputId": "23a58ab4-95db-42e8-dd7f-4ed9a2f2dafb"
      },
      "source": [
        "print('NO.of Tokens: ',len(cVect.vocabulary_.keys()))"
      ],
      "execution_count": 14,
      "outputs": [
        {
          "output_type": "stream",
          "text": [
            "NO.of Tokens:  44255\n"
          ],
          "name": "stdout"
        }
      ]
    },
    {
      "cell_type": "code",
      "metadata": {
        "id": "bn43UCPJ2Qbj",
        "colab_type": "code",
        "colab": {}
      },
      "source": [
        "# document term vector (dtv)\n",
        "dtv = cVect.transform(X_train)"
      ],
      "execution_count": 0,
      "outputs": []
    },
    {
      "cell_type": "code",
      "metadata": {
        "id": "pHqy7JQt44Ay",
        "colab_type": "code",
        "colab": {
          "base_uri": "https://localhost:8080/",
          "height": 34
        },
        "outputId": "368312bf-401e-4a9e-e661-724a0a93e554"
      },
      "source": [
        "type(dtv)"
      ],
      "execution_count": 16,
      "outputs": [
        {
          "output_type": "execute_result",
          "data": {
            "text/plain": [
              "scipy.sparse.csr.csr_matrix"
            ]
          },
          "metadata": {
            "tags": []
          },
          "execution_count": 16
        }
      ]
    },
    {
      "cell_type": "code",
      "metadata": {
        "id": "UpvPOMXW46Tk",
        "colab_type": "code",
        "colab": {}
      },
      "source": [
        "dtv = dtv.toarray()"
      ],
      "execution_count": 0,
      "outputs": []
    },
    {
      "cell_type": "code",
      "metadata": {
        "id": "Z-eyUJKQ5KWa",
        "colab_type": "code",
        "colab": {
          "base_uri": "https://localhost:8080/",
          "height": 50
        },
        "outputId": "da1cec67-4128-4049-f715-5b519d8f4024"
      },
      "source": [
        "print(f\"Number of Observations: {dtv.shape[0]}\\nTokens/Features: {dtv.shape[1]}\")"
      ],
      "execution_count": 18,
      "outputs": [
        {
          "output_type": "stream",
          "text": [
            "Number of Observations: 4136\n",
            "Tokens/Features: 44255\n"
          ],
          "name": "stdout"
        }
      ]
    },
    {
      "cell_type": "code",
      "metadata": {
        "id": "T9PsMu2D5PB9",
        "colab_type": "code",
        "colab": {
          "base_uri": "https://localhost:8080/",
          "height": 34
        },
        "outputId": "6d929357-88fc-417e-a1bf-98b3003ac97b"
      },
      "source": [
        "# Let's see an sample that has been preprocessed\n",
        "dtv[1]"
      ],
      "execution_count": 19,
      "outputs": [
        {
          "output_type": "execute_result",
          "data": {
            "text/plain": [
              "array([0, 0, 0, ..., 0, 0, 0])"
            ]
          },
          "metadata": {
            "tags": []
          },
          "execution_count": 19
        }
      ]
    },
    {
      "cell_type": "code",
      "metadata": {
        "id": "Gyh2ZsoU6B4a",
        "colab_type": "code",
        "colab": {
          "base_uri": "https://localhost:8080/",
          "height": 50
        },
        "outputId": "d7d71aaf-302e-4b04-ce0d-e4e3a5dcf9fa"
      },
      "source": [
        "%%time\n",
        "lr = LogisticRegression(solver='lbfgs')\n",
        "lr.fit(dtv, y_train)"
      ],
      "execution_count": 20,
      "outputs": [
        {
          "output_type": "stream",
          "text": [
            "CPU times: user 31.4 s, sys: 768 ms, total: 32.2 s\n",
            "Wall time: 16.8 s\n"
          ],
          "name": "stdout"
        }
      ]
    },
    {
      "cell_type": "markdown",
      "metadata": {
        "id": "QU5GGLFA_dAY",
        "colab_type": "text"
      },
      "source": [
        "## Evaluate on the Test data"
      ]
    },
    {
      "cell_type": "code",
      "metadata": {
        "id": "bLmYtS1N64UU",
        "colab_type": "code",
        "colab": {
          "base_uri": "https://localhost:8080/",
          "height": 50
        },
        "outputId": "97d34d1e-b252-4a2c-b314-a758df414ddd"
      },
      "source": [
        "# Preprocess the test data\n",
        "test_dtv = cVect.transform(X_test)\n",
        "test_dtv = test_dtv.toarray()\n",
        "print(f\"Number of Observations: {test_dtv.shape[0]}\\nTokens/Features: {test_dtv.shape[1]}\")"
      ],
      "execution_count": 21,
      "outputs": [
        {
          "output_type": "stream",
          "text": [
            "Number of Observations: 1035\n",
            "Tokens/Features: 44255\n"
          ],
          "name": "stdout"
        }
      ]
    },
    {
      "cell_type": "code",
      "metadata": {
        "id": "xEztQBTF_720",
        "colab_type": "code",
        "colab": {
          "base_uri": "https://localhost:8080/",
          "height": 50
        },
        "outputId": "2b9693c6-3b55-4b46-960a-f2e3465a66ff"
      },
      "source": [
        "%%time\n",
        "pred = lr.predict(test_dtv)"
      ],
      "execution_count": 25,
      "outputs": [
        {
          "output_type": "stream",
          "text": [
            "CPU times: user 135 ms, sys: 2.01 ms, total: 137 ms\n",
            "Wall time: 116 ms\n"
          ],
          "name": "stdout"
        }
      ]
    },
    {
      "cell_type": "code",
      "metadata": {
        "id": "f3pUmUbqAb91",
        "colab_type": "code",
        "colab": {
          "base_uri": "https://localhost:8080/",
          "height": 34
        },
        "outputId": "09de5f17-68f8-4469-f538-03d2f3045b92"
      },
      "source": [
        "print('Accuracy: ', accuracy_score(y_test, pred) * 100)"
      ],
      "execution_count": 28,
      "outputs": [
        {
          "output_type": "stream",
          "text": [
            "Accuracy:  98.45410628019323\n"
          ],
          "name": "stdout"
        }
      ]
    },
    {
      "cell_type": "markdown",
      "metadata": {
        "id": "TGwdpzQnAyKN",
        "colab_type": "text"
      },
      "source": [
        "  Classification Report of the classifier"
      ]
    },
    {
      "cell_type": "code",
      "metadata": {
        "id": "taHJjDfSAkYs",
        "colab_type": "code",
        "colab": {
          "base_uri": "https://localhost:8080/",
          "height": 168
        },
        "outputId": "964f9aa6-8928-4dd9-df32-f649508c1c97"
      },
      "source": [
        "# 0 - Not Spam / Ham\n",
        "# 1 - Spam \n",
        "print(classification_report(y_test, pred))"
      ],
      "execution_count": 30,
      "outputs": [
        {
          "output_type": "stream",
          "text": [
            "              precision    recall  f1-score   support\n",
            "\n",
            "           0       1.00      0.98      0.99       744\n",
            "           1       0.95      0.99      0.97       291\n",
            "\n",
            "    accuracy                           0.98      1035\n",
            "   macro avg       0.98      0.99      0.98      1035\n",
            "weighted avg       0.99      0.98      0.98      1035\n",
            "\n"
          ],
          "name": "stdout"
        }
      ]
    },
    {
      "cell_type": "markdown",
      "metadata": {
        "id": "W0PQUVsoBPIX",
        "colab_type": "text"
      },
      "source": [
        "  Confusion Matrix"
      ]
    },
    {
      "cell_type": "code",
      "metadata": {
        "id": "ue-vbeDICs-y",
        "colab_type": "code",
        "colab": {
          "base_uri": "https://localhost:8080/",
          "height": 374
        },
        "outputId": "aec60fe6-fbcb-4b02-c93e-6cfe207e2b30"
      },
      "source": [
        "cmat = confusion_matrix(y_test, pred)\n",
        "plt.figure(figsize = (6, 6))\n",
        "sns.heatmap(cmat, annot = True, cmap = 'Paired', cbar = False, fmt=\"d\", xticklabels=['Not Spam', 'Spam'], yticklabels=['Not Spam', 'Spam']);"
      ],
      "execution_count": 82,
      "outputs": [
        {
          "output_type": "display_data",
          "data": {
            "image/png": "[encoded data removed]",
            "text/plain": [
              "<Figure size 432x432 with 1 Axes>"
            ]
          },
          "metadata": {
            "tags": []
          }
        }
      ]
    },
    {
      "cell_type": "markdown",
      "metadata": {
        "id": "WoTvO1fQOiKE",
        "colab_type": "text"
      },
      "source": [
        "## Predict Class label for the unseen data i.e., Spam or Not Spam"
      ]
    },
    {
      "cell_type": "code",
      "metadata": {
        "id": "B9T5vL8MEcJW",
        "colab_type": "code",
        "colab": {}
      },
      "source": [
        "def predict_class(lr):\n",
        "  text = input('Enter Text(Subject of the mail): ')\n",
        "  text = [' '.join([ word for word in word_tokenize(text)  if not word in stop_words])]\n",
        "  t_dtv = cVect.transform(text).toarray()\n",
        "  print('Predicted Class:', end = ' ')\n",
        "  print('Spam' if lr.predict(t_dtv)[0] else 'Not Spam') \n",
        "  prob = lr.predict_proba(t_dtv)*100\n",
        "  print(f\"Not Spam: {prob[0][0]}%\\nSpam: {prob[0][1]}%\")\n"
      ],
      "execution_count": 0,
      "outputs": []
    },
    {
      "cell_type": "code",
      "metadata": {
        "id": "hTqU6h8dIgqg",
        "colab_type": "code",
        "colab": {
          "base_uri": "https://localhost:8080/",
          "height": 84
        },
        "outputId": "1d2c0ef5-1e31-467f-c15f-fb48e6ae092b"
      },
      "source": [
        "predict_class(lr)"
      ],
      "execution_count": 120,
      "outputs": [
        {
          "output_type": "stream",
          "text": [
            "Enter Text(Subject of the mail): 'You won 1000$ prize money in lottery. Click here to avail'\n",
            "Predicted Class: Spam\n",
            "Not Spam: 4.453477590482279%\n",
            "Spam: 95.54652240951772%\n"
          ],
          "name": "stdout"
        }
      ]
    },
    {
      "cell_type": "markdown",
      "metadata": {
        "id": "0AqIdZQqOCAS",
        "colab_type": "text"
      },
      "source": [
        "\n",
        "\n",
        "---\n",
        "\n"
      ]
    }
  ]
}