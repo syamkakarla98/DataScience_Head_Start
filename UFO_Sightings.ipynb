{
  "nbformat": 4,
  "nbformat_minor": 0,
  "metadata": {
    "colab": {
      "name": "UFO_Sightings.ipynb",
      "provenance": [],
      "collapsed_sections": [],
      "authorship_tag": "ABX9TyP4b1INvpz8U0j4SipUWwmp",
      "include_colab_link": true
    },
    "kernelspec": {
      "name": "python3",
      "display_name": "Python 3"
    }
  },
  "cells": [
    {
      "cell_type": "markdown",
      "metadata": {
        "id": "view-in-github",
        "colab_type": "text"
      },
      "source": [
        "<a href=\"https://colab.research.google.com/github/syamkakarla98/DataScience_Head_Start/blob/master/UFO_Sightings.ipynb\" target=\"_parent\"><img src=\"https://colab.research.google.com/assets/colab-badge.svg\" alt=\"Open In Colab\"/></a>"
      ]
    },
    {
      "cell_type": "markdown",
      "metadata": {
        "id": "sIwr-6JctPkN",
        "colab_type": "text"
      },
      "source": [
        "# **UFO Sightings**\n",
        "\n",
        "![alt text](https://images.foxtv.com/static.fox35orlando.com/www.fox35orlando.com/content/uploads/2019/10/932/524/ufo-aliens.jpg?ve=1&tl=1)\n",
        "\n",
        "### **Context**\n",
        "\n",
        "This dataset contains over 80,000 reports of UFO sightings over the last century.\n",
        "\n",
        "### **Content**\n",
        "\n",
        "There are two versions of this dataset: scrubbed and complete. The complete data includes entries where the location of the sighting was not found or blank (0.8146%) or have an erroneous or blank time (8.0237%). Since the reports date back to the 20th century, some older data might be obscured. Data contains city, state, time, description, and duration of each sighting.\n",
        "\n",
        "### **Inspiration**\n",
        "\n",
        "What areas of the country are most likely to have UFO sightings?\n",
        "Are there any trends in UFO sightings over time? Do they tend to be clustered or seasonal?\n",
        "Do clusters of UFO sightings correlate with landmarks, such as airports or government research centers?\n",
        "What are the most common UFO descriptions?\n",
        "\n",
        "### **Acknowledgement**\n",
        "This dataset was scraped, geolocated, and time standardized from NUFORC data by Sigmond Axel [here](https://github.com/planetsig/ufo-reports).\n",
        "\n",
        "\n",
        "Let's get started..."
      ]
    },
    {
      "cell_type": "markdown",
      "metadata": {
        "id": "5e0hm_pc6neo",
        "colab_type": "text"
      },
      "source": [
        "## Import Modules"
      ]
    },
    {
      "cell_type": "code",
      "metadata": {
        "id": "yeP6FhG2yhrw",
        "colab_type": "code",
        "colab": {}
      },
      "source": [
        "import pandas as pd\n",
        "import matplotlib.pyplot as plt\n",
        "import seaborn as sns\n",
        "import numpy as np\n",
        "plt.rcParams['figure.figsize'] = [12, 6]\n",
        "plt.style.use('seaborn-whitegrid')"
      ],
      "execution_count": 0,
      "outputs": []
    },
    {
      "cell_type": "markdown",
      "metadata": {
        "id": "1Fxz_Jot6ric",
        "colab_type": "text"
      },
      "source": [
        "## Read Data\n"
      ]
    },
    {
      "cell_type": "code",
      "metadata": {
        "id": "ATUR1We0s6q5",
        "colab_type": "code",
        "colab": {}
      },
      "source": [
        "df = pd.read_csv('https://bit.ly/uforeports')"
      ],
      "execution_count": 0,
      "outputs": []
    },
    {
      "cell_type": "markdown",
      "metadata": {
        "id": "R256V3I162Sn",
        "colab_type": "text"
      },
      "source": [
        "## Let's Start\n"
      ]
    },
    {
      "cell_type": "code",
      "metadata": {
        "id": "VmLkmxFUznYG",
        "colab_type": "code",
        "colab": {
          "base_uri": "https://localhost:8080/",
          "height": 195
        },
        "outputId": "6ee0852f-5865-4e72-e98b-1b5b346ac2e9"
      },
      "source": [
        "# Viewving initial five samples of the dataset\n",
        "df.head()"
      ],
      "execution_count": 70,
      "outputs": [
        {
          "output_type": "execute_result",
          "data": {
            "text/html": [
              "<div>\n",
              "<style scoped>\n",
              "    .dataframe tbody tr th:only-of-type {\n",
              "        vertical-align: middle;\n",
              "    }\n",
              "\n",
              "    .dataframe tbody tr th {\n",
              "        vertical-align: top;\n",
              "    }\n",
              "\n",
              "    .dataframe thead th {\n",
              "        text-align: right;\n",
              "    }\n",
              "</style>\n",
              "<table border=\"1\" class=\"dataframe\">\n",
              "  <thead>\n",
              "    <tr style=\"text-align: right;\">\n",
              "      <th></th>\n",
              "      <th>City</th>\n",
              "      <th>Colors Reported</th>\n",
              "      <th>Shape Reported</th>\n",
              "      <th>State</th>\n",
              "      <th>Time</th>\n",
              "    </tr>\n",
              "  </thead>\n",
              "  <tbody>\n",
              "    <tr>\n",
              "      <th>0</th>\n",
              "      <td>Ithaca</td>\n",
              "      <td>NaN</td>\n",
              "      <td>TRIANGLE</td>\n",
              "      <td>NY</td>\n",
              "      <td>6/1/1930 22:00</td>\n",
              "    </tr>\n",
              "    <tr>\n",
              "      <th>1</th>\n",
              "      <td>Willingboro</td>\n",
              "      <td>NaN</td>\n",
              "      <td>OTHER</td>\n",
              "      <td>NJ</td>\n",
              "      <td>6/30/1930 20:00</td>\n",
              "    </tr>\n",
              "    <tr>\n",
              "      <th>2</th>\n",
              "      <td>Holyoke</td>\n",
              "      <td>NaN</td>\n",
              "      <td>OVAL</td>\n",
              "      <td>CO</td>\n",
              "      <td>2/15/1931 14:00</td>\n",
              "    </tr>\n",
              "    <tr>\n",
              "      <th>3</th>\n",
              "      <td>Abilene</td>\n",
              "      <td>NaN</td>\n",
              "      <td>DISK</td>\n",
              "      <td>KS</td>\n",
              "      <td>6/1/1931 13:00</td>\n",
              "    </tr>\n",
              "    <tr>\n",
              "      <th>4</th>\n",
              "      <td>New York Worlds Fair</td>\n",
              "      <td>NaN</td>\n",
              "      <td>LIGHT</td>\n",
              "      <td>NY</td>\n",
              "      <td>4/18/1933 19:00</td>\n",
              "    </tr>\n",
              "  </tbody>\n",
              "</table>\n",
              "</div>"
            ],
            "text/plain": [
              "                   City Colors Reported Shape Reported State             Time\n",
              "0                Ithaca             NaN       TRIANGLE    NY   6/1/1930 22:00\n",
              "1           Willingboro             NaN          OTHER    NJ  6/30/1930 20:00\n",
              "2               Holyoke             NaN           OVAL    CO  2/15/1931 14:00\n",
              "3               Abilene             NaN           DISK    KS   6/1/1931 13:00\n",
              "4  New York Worlds Fair             NaN          LIGHT    NY  4/18/1933 19:00"
            ]
          },
          "metadata": {
            "tags": []
          },
          "execution_count": 70
        }
      ]
    },
    {
      "cell_type": "code",
      "metadata": {
        "id": "iB-aicArz2b0",
        "colab_type": "code",
        "colab": {
          "base_uri": "https://localhost:8080/",
          "height": 34
        },
        "outputId": "6ccce046-7ebf-4132-c215-97be231d8710"
      },
      "source": [
        "# Shape of the data\n",
        "df.shape"
      ],
      "execution_count": 71,
      "outputs": [
        {
          "output_type": "execute_result",
          "data": {
            "text/plain": [
              "(18241, 5)"
            ]
          },
          "metadata": {
            "tags": []
          },
          "execution_count": 71
        }
      ]
    },
    {
      "cell_type": "code",
      "metadata": {
        "id": "d-CTiygiz3RW",
        "colab_type": "code",
        "colab": {
          "base_uri": "https://localhost:8080/",
          "height": 185
        },
        "outputId": "d61343fd-d609-4b29-80a4-cbf909863f85"
      },
      "source": [
        "# Little information of the data\n",
        "df.info()"
      ],
      "execution_count": 72,
      "outputs": [
        {
          "output_type": "stream",
          "text": [
            "<class 'pandas.core.frame.DataFrame'>\n",
            "RangeIndex: 18241 entries, 0 to 18240\n",
            "Data columns (total 5 columns):\n",
            "City               18216 non-null object\n",
            "Colors Reported    2882 non-null object\n",
            "Shape Reported     15597 non-null object\n",
            "State              18241 non-null object\n",
            "Time               18241 non-null object\n",
            "dtypes: object(5)\n",
            "memory usage: 712.7+ KB\n"
          ],
          "name": "stdout"
        }
      ]
    },
    {
      "cell_type": "code",
      "metadata": {
        "id": "KoKw6TDQz9NT",
        "colab_type": "code",
        "colab": {
          "base_uri": "https://localhost:8080/",
          "height": 166
        },
        "outputId": "f28324bd-24c5-4f6c-ac15-738c0b3d0302"
      },
      "source": [
        "# Describing the data \n",
        "df.describe()"
      ],
      "execution_count": 74,
      "outputs": [
        {
          "output_type": "execute_result",
          "data": {
            "text/html": [
              "<div>\n",
              "<style scoped>\n",
              "    .dataframe tbody tr th:only-of-type {\n",
              "        vertical-align: middle;\n",
              "    }\n",
              "\n",
              "    .dataframe tbody tr th {\n",
              "        vertical-align: top;\n",
              "    }\n",
              "\n",
              "    .dataframe thead th {\n",
              "        text-align: right;\n",
              "    }\n",
              "</style>\n",
              "<table border=\"1\" class=\"dataframe\">\n",
              "  <thead>\n",
              "    <tr style=\"text-align: right;\">\n",
              "      <th></th>\n",
              "      <th>City</th>\n",
              "      <th>Colors Reported</th>\n",
              "      <th>Shape Reported</th>\n",
              "      <th>State</th>\n",
              "      <th>Time</th>\n",
              "    </tr>\n",
              "  </thead>\n",
              "  <tbody>\n",
              "    <tr>\n",
              "      <th>count</th>\n",
              "      <td>18216</td>\n",
              "      <td>2882</td>\n",
              "      <td>15597</td>\n",
              "      <td>18241</td>\n",
              "      <td>18241</td>\n",
              "    </tr>\n",
              "    <tr>\n",
              "      <th>unique</th>\n",
              "      <td>6476</td>\n",
              "      <td>27</td>\n",
              "      <td>27</td>\n",
              "      <td>52</td>\n",
              "      <td>16145</td>\n",
              "    </tr>\n",
              "    <tr>\n",
              "      <th>top</th>\n",
              "      <td>Seattle</td>\n",
              "      <td>RED</td>\n",
              "      <td>LIGHT</td>\n",
              "      <td>CA</td>\n",
              "      <td>11/16/1999 19:00</td>\n",
              "    </tr>\n",
              "    <tr>\n",
              "      <th>freq</th>\n",
              "      <td>187</td>\n",
              "      <td>780</td>\n",
              "      <td>2803</td>\n",
              "      <td>2529</td>\n",
              "      <td>27</td>\n",
              "    </tr>\n",
              "  </tbody>\n",
              "</table>\n",
              "</div>"
            ],
            "text/plain": [
              "           City Colors Reported Shape Reported  State              Time\n",
              "count     18216            2882          15597  18241             18241\n",
              "unique     6476              27             27     52             16145\n",
              "top     Seattle             RED          LIGHT     CA  11/16/1999 19:00\n",
              "freq        187             780           2803   2529                27"
            ]
          },
          "metadata": {
            "tags": []
          },
          "execution_count": 74
        }
      ]
    },
    {
      "cell_type": "code",
      "metadata": {
        "id": "u5llAW_cz-i0",
        "colab_type": "code",
        "colab": {
          "base_uri": "https://localhost:8080/",
          "height": 118
        },
        "outputId": "fb1d5d6b-9212-463b-8f9b-012faf23ab16"
      },
      "source": [
        "# let's see the count of null values in every attribute\n",
        "na = df.isna().sum()\n",
        "print(na)"
      ],
      "execution_count": 57,
      "outputs": [
        {
          "output_type": "stream",
          "text": [
            "City                  25\n",
            "Colors Reported    15359\n",
            "Shape Reported      2644\n",
            "State                  0\n",
            "Time                   0\n",
            "dtype: int64\n"
          ],
          "name": "stdout"
        }
      ]
    },
    {
      "cell_type": "markdown",
      "metadata": {
        "id": "1leK3NBs7kPq",
        "colab_type": "text"
      },
      "source": [
        "A count plot to see the count of NaN values in the data."
      ]
    },
    {
      "cell_type": "code",
      "metadata": {
        "id": "TExYwsrY0t-D",
        "colab_type": "code",
        "colab": {
          "base_uri": "https://localhost:8080/",
          "height": 386
        },
        "outputId": "2f269e71-d0fb-486f-feb6-f464bf8e9a1a"
      },
      "source": [
        "# na.plot(kind = 'bar');\n",
        "# or\n",
        "plt.figure(figsize=(12, 6))\n",
        "sns.barplot(x = na.index, y = na, palette='Set2')\n",
        "plt.ylabel('Count of NaN values')\n",
        "plt.xlabel('Attribute')\n",
        "plt.show()\n"
      ],
      "execution_count": 169,
      "outputs": [
        {
          "output_type": "display_data",
          "data": {
            "image/png": "[encoded data removed]",
            "text/plain": [
              "<Figure size 864x432 with 1 Axes>"
            ]
          },
          "metadata": {
            "tags": []
          }
        }
      ]
    },
    {
      "cell_type": "markdown",
      "metadata": {
        "id": "UD9NNFpt7tUn",
        "colab_type": "text"
      },
      "source": [
        "Let's analyse the attributes of the data:\n",
        "\n",
        "**1. City**"
      ]
    },
    {
      "cell_type": "code",
      "metadata": {
        "id": "1DV6tH638O3J",
        "colab_type": "code",
        "colab": {
          "base_uri": "https://localhost:8080/",
          "height": 101
        },
        "outputId": "4ff90ecf-3ce0-4d1a-ec2e-3d9bd209edc5"
      },
      "source": [
        "df.City.describe()"
      ],
      "execution_count": 90,
      "outputs": [
        {
          "output_type": "execute_result",
          "data": {
            "text/plain": [
              "count       18216\n",
              "unique       6476\n",
              "top       Seattle\n",
              "freq          187\n",
              "Name: City, dtype: object"
            ]
          },
          "metadata": {
            "tags": []
          },
          "execution_count": 90
        }
      ]
    },
    {
      "cell_type": "markdown",
      "metadata": {
        "id": "xo-SKGDb9kaY",
        "colab_type": "text"
      },
      "source": [
        "Top 10 cities UFO sightings noted"
      ]
    },
    {
      "cell_type": "code",
      "metadata": {
        "id": "hIqy7q5R8O1O",
        "colab_type": "code",
        "colab": {
          "base_uri": "https://localhost:8080/",
          "height": 385
        },
        "outputId": "3ddfb5a2-92fc-4239-da6f-dbd1e24b6c55"
      },
      "source": [
        "c = df.City.value_counts()[:10]\n",
        "sns.barplot(y = c.index, x = c)\n",
        "plt.xlabel('Count of UFO Sightings')\n",
        "plt.ylabel('City');"
      ],
      "execution_count": 170,
      "outputs": [
        {
          "output_type": "display_data",
          "data": {
            "image/png": "[encoded data removed]",
            "text/plain": [
              "<Figure size 864x432 with 1 Axes>"
            ]
          },
          "metadata": {
            "tags": []
          }
        }
      ]
    },
    {
      "cell_type": "markdown",
      "metadata": {
        "id": "X-P5JdMi_DBP",
        "colab_type": "text"
      },
      "source": [
        "The seattle has majorly notices UFO's.\n",
        "\n",
        "**2. Colors Reported**"
      ]
    },
    {
      "cell_type": "code",
      "metadata": {
        "id": "CEdJyinh_rEn",
        "colab_type": "code",
        "colab": {
          "base_uri": "https://localhost:8080/",
          "height": 202
        },
        "outputId": "439d4cc3-d0e8-46ff-a517-6a99976e6f6c"
      },
      "source": [
        "# Top 10 colors noticed and it's percentage\n",
        "df.loc[:, 'Colors Reported'].value_counts(normalize=True)[:10]"
      ],
      "execution_count": 99,
      "outputs": [
        {
          "output_type": "execute_result",
          "data": {
            "text/plain": [
              "RED               0.270645\n",
              "GREEN             0.184247\n",
              "ORANGE            0.183206\n",
              "BLUE              0.156142\n",
              "YELLOW            0.058640\n",
              "RED GREEN         0.030881\n",
              "RED BLUE          0.027065\n",
              "RED ORANGE        0.015267\n",
              "GREEN BLUE        0.011797\n",
              "RED GREEN BLUE    0.011450\n",
              "Name: Colors Reported, dtype: float64"
            ]
          },
          "metadata": {
            "tags": []
          },
          "execution_count": 99
        }
      ]
    },
    {
      "cell_type": "code",
      "metadata": {
        "id": "SkUCzKQv3NXN",
        "colab_type": "code",
        "colab": {
          "base_uri": "https://localhost:8080/",
          "height": 493
        },
        "outputId": "d83b8c9f-cdce-47bd-9098-a1d815a96e95"
      },
      "source": [
        "plt.figure(figsize=(15, 8))\n",
        "sns.countplot(y = 'Colors Reported', data=df, palette='Set2');"
      ],
      "execution_count": 171,
      "outputs": [
        {
          "output_type": "display_data",
          "data": {
            "image/png": "[encoded data removed]",
            "text/plain": [
              "<Figure size 1080x576 with 1 Axes>"
            ]
          },
          "metadata": {
            "tags": []
          }
        }
      ]
    },
    {
      "cell_type": "markdown",
      "metadata": {
        "id": "Y_qx9pfhAAZb",
        "colab_type": "text"
      },
      "source": [
        "**3. Shape Reported**"
      ]
    },
    {
      "cell_type": "code",
      "metadata": {
        "id": "7CYp8Xkq48ap",
        "colab_type": "code",
        "colab": {
          "base_uri": "https://localhost:8080/",
          "height": 202
        },
        "outputId": "63db8eb8-a3d3-40b0-e3f8-9872e1fb283d"
      },
      "source": [
        "# Top 10 shapes of UFO's reported\n",
        "s = df.loc[:, 'Shape Reported'].value_counts()[:10]\n",
        "s"
      ],
      "execution_count": 102,
      "outputs": [
        {
          "output_type": "execute_result",
          "data": {
            "text/plain": [
              "LIGHT        2803\n",
              "DISK         2122\n",
              "TRIANGLE     1889\n",
              "OTHER        1402\n",
              "CIRCLE       1365\n",
              "SPHERE       1054\n",
              "FIREBALL     1039\n",
              "OVAL          845\n",
              "CIGAR         617\n",
              "FORMATION     434\n",
              "Name: Shape Reported, dtype: int64"
            ]
          },
          "metadata": {
            "tags": []
          },
          "execution_count": 102
        }
      ]
    },
    {
      "cell_type": "code",
      "metadata": {
        "id": "KxAbTU3NAjbt",
        "colab_type": "code",
        "colab": {
          "base_uri": "https://localhost:8080/",
          "height": 371
        },
        "outputId": "e4778984-f695-47c4-a6d2-683c30b55e98"
      },
      "source": [
        "sns.barplot(x = s.index, y = s, palette = 'Dark2');"
      ],
      "execution_count": 172,
      "outputs": [
        {
          "output_type": "display_data",
          "data": {
            "image/png": "[encoded data removed]",
            "text/plain": [
              "<Figure size 864x432 with 1 Axes>"
            ]
          },
          "metadata": {
            "tags": []
          }
        }
      ]
    },
    {
      "cell_type": "markdown",
      "metadata": {
        "id": "pv_56K1dBmCe",
        "colab_type": "text"
      },
      "source": [
        "Ligh, Disk and Triangle are the mostly reported shapes of the UFO's.\n",
        "\n",
        "**4. State**\n"
      ]
    },
    {
      "cell_type": "code",
      "metadata": {
        "id": "96Dwx755AuQE",
        "colab_type": "code",
        "colab": {
          "base_uri": "https://localhost:8080/",
          "height": 907
        },
        "outputId": "1b435854-6f8a-451d-de1a-30185fcf2c00"
      },
      "source": [
        "st = df.State.value_counts()\n",
        "st"
      ],
      "execution_count": 150,
      "outputs": [
        {
          "output_type": "execute_result",
          "data": {
            "text/plain": [
              "CA    2529\n",
              "WA    1322\n",
              "TX    1027\n",
              "NY     914\n",
              "FL     837\n",
              "AZ     738\n",
              "OH     667\n",
              "IL     613\n",
              "PA     598\n",
              "MI     591\n",
              "OR     534\n",
              "MO     448\n",
              "NJ     370\n",
              "CO     367\n",
              "WI     357\n",
              "NC     356\n",
              "IN     326\n",
              "GA     325\n",
              "MA     322\n",
              "VA     299\n",
              "TN     286\n",
              "NV     284\n",
              "MN     254\n",
              "KY     244\n",
              "NM     241\n",
              "CT     225\n",
              "MD     215\n",
              "AR     206\n",
              "UT     193\n",
              "OK     193\n",
              "AL     193\n",
              "ME     181\n",
              "KS     176\n",
              "LA     174\n",
              "SC     166\n",
              "IA     162\n",
              "MT     144\n",
              "MS     139\n",
              "WV     132\n",
              "ID     130\n",
              "NH     125\n",
              "AK     116\n",
              "NE     101\n",
              "HI      85\n",
              "WY      69\n",
              "RI      67\n",
              "SD      57\n",
              "ND      51\n",
              "VT      44\n",
              "DE      43\n",
              "Fl       4\n",
              "Ca       1\n",
              "Name: State, dtype: int64"
            ]
          },
          "metadata": {
            "tags": []
          },
          "execution_count": 150
        }
      ]
    },
    {
      "cell_type": "code",
      "metadata": {
        "id": "D92fnyBYCIwz",
        "colab_type": "code",
        "colab": {
          "base_uri": "https://localhost:8080/",
          "height": 371
        },
        "outputId": "97684358-8452-4e6f-f441-92127a476db8"
      },
      "source": [
        "sns.barplot(x = st[:20].index, y = st[:20], palette='Set2');"
      ],
      "execution_count": 173,
      "outputs": [
        {
          "output_type": "display_data",
          "data": {
            "image/png": "[encoded data removed]",
            "text/plain": [
              "<Figure size 864x432 with 1 Axes>"
            ]
          },
          "metadata": {
            "tags": []
          }
        }
      ]
    },
    {
      "cell_type": "markdown",
      "metadata": {
        "id": "3QCLpO9AEN-0",
        "colab_type": "text"
      },
      "source": [
        "**California**, **Washinton**, **Texas**, **NewYork** and **Florida** are the top five U.S states have the most UFO sightings.\n",
        "\n",
        "**5.Time**"
      ]
    },
    {
      "cell_type": "code",
      "metadata": {
        "id": "U1ZmAYynC4-y",
        "colab_type": "code",
        "colab": {}
      },
      "source": [
        "# Converting the string datatype to datetime\n",
        "df['Time'] = pd.to_datetime(df.loc[:, 'Time'])"
      ],
      "execution_count": 0,
      "outputs": []
    },
    {
      "cell_type": "code",
      "metadata": {
        "id": "ZBzddjMlMqVD",
        "colab_type": "code",
        "colab": {}
      },
      "source": [
        "# Adding new attribute 'Year'\n",
        "df['Year'] = df.Time.dt.year.astype('int')"
      ],
      "execution_count": 0,
      "outputs": []
    },
    {
      "cell_type": "code",
      "metadata": {
        "id": "_c1z2uqcGw4U",
        "colab_type": "code",
        "colab": {
          "base_uri": "https://localhost:8080/",
          "height": 134
        },
        "outputId": "5b02e62c-ff2d-4f50-fe89-2f772ab5df05"
      },
      "source": [
        "df.dtypes"
      ],
      "execution_count": 207,
      "outputs": [
        {
          "output_type": "execute_result",
          "data": {
            "text/plain": [
              "City                       object\n",
              "Colors Reported            object\n",
              "Shape Reported             object\n",
              "State                      object\n",
              "Time               datetime64[ns]\n",
              "Year                        int64\n",
              "dtype: object"
            ]
          },
          "metadata": {
            "tags": []
          },
          "execution_count": 207
        }
      ]
    },
    {
      "cell_type": "code",
      "metadata": {
        "id": "cojhqG7EHVcP",
        "colab_type": "code",
        "colab": {
          "base_uri": "https://localhost:8080/",
          "height": 218
        },
        "outputId": "76dbfb7b-6606-45d8-bd03-a1572b786e02"
      },
      "source": [
        "d = df.Time.dt.year.value_counts()\n",
        "d"
      ],
      "execution_count": 162,
      "outputs": [
        {
          "output_type": "execute_result",
          "data": {
            "text/plain": [
              "1999    2774\n",
              "2000    2635\n",
              "1998    1743\n",
              "1995    1344\n",
              "1997    1237\n",
              "        ... \n",
              "1941       2\n",
              "1936       2\n",
              "1935       1\n",
              "1934       1\n",
              "1933       1\n",
              "Name: Time, Length: 68, dtype: int64"
            ]
          },
          "metadata": {
            "tags": []
          },
          "execution_count": 162
        }
      ]
    },
    {
      "cell_type": "code",
      "metadata": {
        "id": "JiGN6bpoHeiI",
        "colab_type": "code",
        "colab": {
          "base_uri": "https://localhost:8080/",
          "height": 385
        },
        "outputId": "baea9ab1-7ec4-4152-af8a-6b25a7c6095c"
      },
      "source": [
        "sns.lineplot(x = d.index, y = d, color=\"coral\")\n",
        "plt.xlabel('Year')\n",
        "plt.ylabel('Count of UFO Sightings');"
      ],
      "execution_count": 179,
      "outputs": [
        {
          "output_type": "display_data",
          "data": {
            "image/png": "[encoded data removed]",
            "text/plain": [
              "<Figure size 864x432 with 1 Axes>"
            ]
          },
          "metadata": {
            "tags": []
          }
        }
      ]
    },
    {
      "cell_type": "code",
      "metadata": {
        "id": "kRuI-lqCH5Ie",
        "colab_type": "code",
        "colab": {
          "base_uri": "https://localhost:8080/",
          "height": 622
        },
        "outputId": "a663c3d4-f83a-4c5d-d8c6-9454625b4831"
      },
      "source": [
        "plt.figure(figsize=(45,  10))\n",
        "sns.barplot(x = d.index, y = d, palette='Set3')\n",
        "plt.xlabel('Year')\n",
        "plt.ylabel('Count of UFO Sightings');"
      ],
      "execution_count": 277,
      "outputs": [
        {
          "output_type": "display_data",
          "data": {
            "image/png": "[encoded data removed]",
            "text/plain": [
              "<Figure size 3240x720 with 1 Axes>"
            ]
          },
          "metadata": {
            "tags": []
          }
        }
      ]
    },
    {
      "cell_type": "code",
      "metadata": {
        "id": "LwlbKmI0OJ2i",
        "colab_type": "code",
        "colab": {
          "base_uri": "https://localhost:8080/",
          "height": 542
        },
        "outputId": "95d80a9e-e8b0-470a-c9a1-28832d31cc75"
      },
      "source": [
        "# To see the plotly graph, use colab\n",
        "import plotly.express as px\n",
        "fig = px.scatter(x =d.index, y = d, size = d, color = d.index, hover_name = d.index, log_x=True,size_max=100, render_mode=\"webgl\")\n",
        "fig.show()"
      ],
      "execution_count": 274,
      "outputs": [
        {
          "output_type": "display_data",
          "data": {
            "text/html": [
              "<html>\n",
              "<head><meta charset=\"utf-8\" /></head>\n",
              "<body>\n",
              "    <div>\n",
              "            <script src=\"https://cdnjs.cloudflare.com/ajax/libs/mathjax/2.7.5/MathJax.js?config=TeX-AMS-MML_SVG\"></script><script type=\"text/javascript\">if (window.MathJax) {MathJax.Hub.Config({SVG: {font: \"STIX-Web\"}});}</script>\n",
              "                <script type=\"text/javascript\">window.PlotlyConfig = {MathJaxConfig: 'local'};</script>\n",
              "        <script src=\"https://cdn.plot.ly/plotly-latest.min.js\"></script>    \n",
              "            <div id=\"fdcc89e8-6d56-4d2c-9a33-df4dfe36d492\" class=\"plotly-graph-div\" style=\"height:525px; width:100%;\"></div>\n",
              "            <script type=\"text/javascript\">\n",
              "                \n",
              "                    window.PLOTLYENV=window.PLOTLYENV || {};\n",
              "                    \n",
              "                if (document.getElementById(\"fdcc89e8-6d56-4d2c-9a33-df4dfe36d492\")) {\n",
              "                    Plotly.newPlot(\n",
              "                        'fdcc89e8-6d56-4d2c-9a33-df4dfe36d492',\n",
              "                        [{\"hoverlabel\": {\"namelength\": 0}, \"hovertemplate\": \"<b>%{hovertext}</b><br><br>x=%{x}<br>y=%{y}<br>size=%{marker.size}<br>color=%{marker.color}\", \"hovertext\": [1999.0, 2000.0, 1998.0, 1995.0, 1997.0, 1996.0, 1994.0, 1978.0, 1975.0, 1993.0, 1976.0, 1974.0, 1977.0, 1989.0, 1992.0, 1980.0, 1990.0, 1979.0, 1988.0, 1973.0, 1991.0, 1968.0, 1985.0, 1987.0, 1966.0, 1967.0, 1965.0, 1986.0, 1982.0, 1984.0, 1981.0, 1972.0, 1969.0, 1983.0, 1970.0, 1971.0, 1964.0, 1963.0, 1957.0, 1962.0, 1960.0, 1959.0, 1954.0, 1958.0, 1952.0, 1961.0, 1956.0, 1947.0, 1953.0, 1955.0, 1950.0, 1951.0, 1949.0, 1945.0, 1948.0, 1944.0, 1946.0, 1943.0, 1939.0, 1942.0, 1931.0, 1930.0, 1937.0, 1941.0, 1936.0, 1935.0, 1934.0, 1933.0], \"legendgroup\": \"\", \"marker\": {\"color\": [1999, 2000, 1998, 1995, 1997, 1996, 1994, 1978, 1975, 1993, 1976, 1974, 1977, 1989, 1992, 1980, 1990, 1979, 1988, 1973, 1991, 1968, 1985, 1987, 1966, 1967, 1965, 1986, 1982, 1984, 1981, 1972, 1969, 1983, 1970, 1971, 1964, 1963, 1957, 1962, 1960, 1959, 1954, 1958, 1952, 1961, 1956, 1947, 1953, 1955, 1950, 1951, 1949, 1945, 1948, 1944, 1946, 1943, 1939, 1942, 1931, 1930, 1937, 1941, 1936, 1935, 1934, 1933], \"coloraxis\": \"coloraxis\", \"size\": [2774, 2635, 1743, 1344, 1237, 851, 406, 326, 312, 292, 281, 261, 258, 247, 245, 244, 237, 237, 232, 227, 220, 218, 211, 210, 203, 196, 195, 186, 186, 177, 175, 162, 154, 148, 138, 118, 101, 85, 78, 72, 67, 57, 55, 53, 52, 50, 46, 41, 36, 33, 31, 21, 19, 9, 9, 8, 8, 5, 3, 3, 2, 2, 2, 2, 2, 1, 1, 1], \"sizemode\": \"area\", \"sizeref\": 0.2774, \"symbol\": \"circle\"}, \"mode\": \"markers\", \"name\": \"\", \"showlegend\": false, \"type\": \"scattergl\", \"x\": [1999, 2000, 1998, 1995, 1997, 1996, 1994, 1978, 1975, 1993, 1976, 1974, 1977, 1989, 1992, 1980, 1990, 1979, 1988, 1973, 1991, 1968, 1985, 1987, 1966, 1967, 1965, 1986, 1982, 1984, 1981, 1972, 1969, 1983, 1970, 1971, 1964, 1963, 1957, 1962, 1960, 1959, 1954, 1958, 1952, 1961, 1956, 1947, 1953, 1955, 1950, 1951, 1949, 1945, 1948, 1944, 1946, 1943, 1939, 1942, 1931, 1930, 1937, 1941, 1936, 1935, 1934, 1933], \"xaxis\": \"x\", \"y\": [2774, 2635, 1743, 1344, 1237, 851, 406, 326, 312, 292, 281, 261, 258, 247, 245, 244, 237, 237, 232, 227, 220, 218, 211, 210, 203, 196, 195, 186, 186, 177, 175, 162, 154, 148, 138, 118, 101, 85, 78, 72, 67, 57, 55, 53, 52, 50, 46, 41, 36, 33, 31, 21, 19, 9, 9, 8, 8, 5, 3, 3, 2, 2, 2, 2, 2, 1, 1, 1], \"yaxis\": \"y\"}],\n",
              "                        {\"coloraxis\": {\"colorbar\": {\"title\": {\"text\": \"color\"}}, \"colorscale\": [[0.0, \"#0d0887\"], [0.1111111111111111, \"#46039f\"], [0.2222222222222222, \"#7201a8\"], [0.3333333333333333, \"#9c179e\"], [0.4444444444444444, \"#bd3786\"], [0.5555555555555556, \"#d8576b\"], [0.6666666666666666, \"#ed7953\"], [0.7777777777777778, \"#fb9f3a\"], [0.8888888888888888, \"#fdca26\"], [1.0, \"#f0f921\"]]}, \"legend\": {\"itemsizing\": \"constant\", \"tracegroupgap\": 0}, \"margin\": {\"t\": 60}, \"template\": {\"data\": {\"bar\": [{\"error_x\": {\"color\": \"#2a3f5f\"}, \"error_y\": {\"color\": \"#2a3f5f\"}, \"marker\": {\"line\": {\"color\": \"#E5ECF6\", \"width\": 0.5}}, \"type\": \"bar\"}], \"barpolar\": [{\"marker\": {\"line\": {\"color\": \"#E5ECF6\", \"width\": 0.5}}, \"type\": \"barpolar\"}], \"carpet\": [{\"aaxis\": {\"endlinecolor\": \"#2a3f5f\", \"gridcolor\": \"white\", \"linecolor\": \"white\", \"minorgridcolor\": \"white\", \"startlinecolor\": \"#2a3f5f\"}, \"baxis\": {\"endlinecolor\": \"#2a3f5f\", \"gridcolor\": \"white\", \"linecolor\": \"white\", \"minorgridcolor\": \"white\", \"startlinecolor\": \"#2a3f5f\"}, \"type\": \"carpet\"}], \"choropleth\": [{\"colorbar\": {\"outlinewidth\": 0, \"ticks\": \"\"}, \"type\": \"choropleth\"}], \"contour\": [{\"colorbar\": {\"outlinewidth\": 0, \"ticks\": \"\"}, \"colorscale\": [[0.0, \"#0d0887\"], [0.1111111111111111, \"#46039f\"], [0.2222222222222222, \"#7201a8\"], [0.3333333333333333, \"#9c179e\"], [0.4444444444444444, \"#bd3786\"], [0.5555555555555556, \"#d8576b\"], [0.6666666666666666, \"#ed7953\"], [0.7777777777777778, \"#fb9f3a\"], [0.8888888888888888, \"#fdca26\"], [1.0, \"#f0f921\"]], \"type\": \"contour\"}], \"contourcarpet\": [{\"colorbar\": {\"outlinewidth\": 0, \"ticks\": \"\"}, \"type\": \"contourcarpet\"}], \"heatmap\": [{\"colorbar\": {\"outlinewidth\": 0, \"ticks\": \"\"}, \"colorscale\": [[0.0, \"#0d0887\"], [0.1111111111111111, \"#46039f\"], [0.2222222222222222, \"#7201a8\"], [0.3333333333333333, \"#9c179e\"], [0.4444444444444444, \"#bd3786\"], [0.5555555555555556, \"#d8576b\"], [0.6666666666666666, \"#ed7953\"], [0.7777777777777778, \"#fb9f3a\"], [0.8888888888888888, \"#fdca26\"], [1.0, \"#f0f921\"]], \"type\": \"heatmap\"}], \"heatmapgl\": [{\"colorbar\": {\"outlinewidth\": 0, \"ticks\": \"\"}, \"colorscale\": [[0.0, \"#0d0887\"], [0.1111111111111111, \"#46039f\"], [0.2222222222222222, \"#7201a8\"], [0.3333333333333333, \"#9c179e\"], [0.4444444444444444, \"#bd3786\"], [0.5555555555555556, \"#d8576b\"], [0.6666666666666666, \"#ed7953\"], [0.7777777777777778, \"#fb9f3a\"], [0.8888888888888888, \"#fdca26\"], [1.0, \"#f0f921\"]], \"type\": \"heatmapgl\"}], \"histogram\": [{\"marker\": {\"colorbar\": {\"outlinewidth\": 0, \"ticks\": \"\"}}, \"type\": \"histogram\"}], \"histogram2d\": [{\"colorbar\": {\"outlinewidth\": 0, \"ticks\": \"\"}, \"colorscale\": [[0.0, \"#0d0887\"], [0.1111111111111111, \"#46039f\"], [0.2222222222222222, \"#7201a8\"], [0.3333333333333333, \"#9c179e\"], [0.4444444444444444, \"#bd3786\"], [0.5555555555555556, \"#d8576b\"], [0.6666666666666666, \"#ed7953\"], [0.7777777777777778, \"#fb9f3a\"], [0.8888888888888888, \"#fdca26\"], [1.0, \"#f0f921\"]], \"type\": \"histogram2d\"}], \"histogram2dcontour\": [{\"colorbar\": {\"outlinewidth\": 0, \"ticks\": \"\"}, \"colorscale\": [[0.0, \"#0d0887\"], [0.1111111111111111, \"#46039f\"], [0.2222222222222222, \"#7201a8\"], [0.3333333333333333, \"#9c179e\"], [0.4444444444444444, \"#bd3786\"], [0.5555555555555556, \"#d8576b\"], [0.6666666666666666, \"#ed7953\"], [0.7777777777777778, \"#fb9f3a\"], [0.8888888888888888, \"#fdca26\"], [1.0, \"#f0f921\"]], \"type\": \"histogram2dcontour\"}], \"mesh3d\": [{\"colorbar\": {\"outlinewidth\": 0, \"ticks\": \"\"}, \"type\": \"mesh3d\"}], \"parcoords\": [{\"line\": {\"colorbar\": {\"outlinewidth\": 0, \"ticks\": \"\"}}, \"type\": \"parcoords\"}], \"pie\": [{\"automargin\": true, \"type\": \"pie\"}], \"scatter\": [{\"marker\": {\"colorbar\": {\"outlinewidth\": 0, \"ticks\": \"\"}}, \"type\": \"scatter\"}], \"scatter3d\": [{\"line\": {\"colorbar\": {\"outlinewidth\": 0, \"ticks\": \"\"}}, \"marker\": {\"colorbar\": {\"outlinewidth\": 0, \"ticks\": \"\"}}, \"type\": \"scatter3d\"}], \"scattercarpet\": [{\"marker\": {\"colorbar\": {\"outlinewidth\": 0, \"ticks\": \"\"}}, \"type\": \"scattercarpet\"}], \"scattergeo\": [{\"marker\": {\"colorbar\": {\"outlinewidth\": 0, \"ticks\": \"\"}}, \"type\": \"scattergeo\"}], \"scattergl\": [{\"marker\": {\"colorbar\": {\"outlinewidth\": 0, \"ticks\": \"\"}}, \"type\": \"scattergl\"}], \"scattermapbox\": [{\"marker\": {\"colorbar\": {\"outlinewidth\": 0, \"ticks\": \"\"}}, \"type\": \"scattermapbox\"}], \"scatterpolar\": [{\"marker\": {\"colorbar\": {\"outlinewidth\": 0, \"ticks\": \"\"}}, \"type\": \"scatterpolar\"}], \"scatterpolargl\": [{\"marker\": {\"colorbar\": {\"outlinewidth\": 0, \"ticks\": \"\"}}, \"type\": \"scatterpolargl\"}], \"scatterternary\": [{\"marker\": {\"colorbar\": {\"outlinewidth\": 0, \"ticks\": \"\"}}, \"type\": \"scatterternary\"}], \"surface\": [{\"colorbar\": {\"outlinewidth\": 0, \"ticks\": \"\"}, \"colorscale\": [[0.0, \"#0d0887\"], [0.1111111111111111, \"#46039f\"], [0.2222222222222222, \"#7201a8\"], [0.3333333333333333, \"#9c179e\"], [0.4444444444444444, \"#bd3786\"], [0.5555555555555556, \"#d8576b\"], [0.6666666666666666, \"#ed7953\"], [0.7777777777777778, \"#fb9f3a\"], [0.8888888888888888, \"#fdca26\"], [1.0, \"#f0f921\"]], \"type\": \"surface\"}], \"table\": [{\"cells\": {\"fill\": {\"color\": \"#EBF0F8\"}, \"line\": {\"color\": \"white\"}}, \"header\": {\"fill\": {\"color\": \"#C8D4E3\"}, \"line\": {\"color\": \"white\"}}, \"type\": \"table\"}]}, \"layout\": {\"annotationdefaults\": {\"arrowcolor\": \"#2a3f5f\", \"arrowhead\": 0, \"arrowwidth\": 1}, \"coloraxis\": {\"colorbar\": {\"outlinewidth\": 0, \"ticks\": \"\"}}, \"colorscale\": {\"diverging\": [[0, \"#8e0152\"], [0.1, \"#c51b7d\"], [0.2, \"#de77ae\"], [0.3, \"#f1b6da\"], [0.4, \"#fde0ef\"], [0.5, \"#f7f7f7\"], [0.6, \"#e6f5d0\"], [0.7, \"#b8e186\"], [0.8, \"#7fbc41\"], [0.9, \"#4d9221\"], [1, \"#276419\"]], \"sequential\": [[0.0, \"#0d0887\"], [0.1111111111111111, \"#46039f\"], [0.2222222222222222, \"#7201a8\"], [0.3333333333333333, \"#9c179e\"], [0.4444444444444444, \"#bd3786\"], [0.5555555555555556, \"#d8576b\"], [0.6666666666666666, \"#ed7953\"], [0.7777777777777778, \"#fb9f3a\"], [0.8888888888888888, \"#fdca26\"], [1.0, \"#f0f921\"]], \"sequentialminus\": [[0.0, \"#0d0887\"], [0.1111111111111111, \"#46039f\"], [0.2222222222222222, \"#7201a8\"], [0.3333333333333333, \"#9c179e\"], [0.4444444444444444, \"#bd3786\"], [0.5555555555555556, \"#d8576b\"], [0.6666666666666666, \"#ed7953\"], [0.7777777777777778, \"#fb9f3a\"], [0.8888888888888888, \"#fdca26\"], [1.0, \"#f0f921\"]]}, \"colorway\": [\"#636efa\", \"#EF553B\", \"#00cc96\", \"#ab63fa\", \"#FFA15A\", \"#19d3f3\", \"#FF6692\", \"#B6E880\", \"#FF97FF\", \"#FECB52\"], \"font\": {\"color\": \"#2a3f5f\"}, \"geo\": {\"bgcolor\": \"white\", \"lakecolor\": \"white\", \"landcolor\": \"#E5ECF6\", \"showlakes\": true, \"showland\": true, \"subunitcolor\": \"white\"}, \"hoverlabel\": {\"align\": \"left\"}, \"hovermode\": \"closest\", \"mapbox\": {\"style\": \"light\"}, \"paper_bgcolor\": \"white\", \"plot_bgcolor\": \"#E5ECF6\", \"polar\": {\"angularaxis\": {\"gridcolor\": \"white\", \"linecolor\": \"white\", \"ticks\": \"\"}, \"bgcolor\": \"#E5ECF6\", \"radialaxis\": {\"gridcolor\": \"white\", \"linecolor\": \"white\", \"ticks\": \"\"}}, \"scene\": {\"xaxis\": {\"backgroundcolor\": \"#E5ECF6\", \"gridcolor\": \"white\", \"gridwidth\": 2, \"linecolor\": \"white\", \"showbackground\": true, \"ticks\": \"\", \"zerolinecolor\": \"white\"}, \"yaxis\": {\"backgroundcolor\": \"#E5ECF6\", \"gridcolor\": \"white\", \"gridwidth\": 2, \"linecolor\": \"white\", \"showbackground\": true, \"ticks\": \"\", \"zerolinecolor\": \"white\"}, \"zaxis\": {\"backgroundcolor\": \"#E5ECF6\", \"gridcolor\": \"white\", \"gridwidth\": 2, \"linecolor\": \"white\", \"showbackground\": true, \"ticks\": \"\", \"zerolinecolor\": \"white\"}}, \"shapedefaults\": {\"line\": {\"color\": \"#2a3f5f\"}}, \"ternary\": {\"aaxis\": {\"gridcolor\": \"white\", \"linecolor\": \"white\", \"ticks\": \"\"}, \"baxis\": {\"gridcolor\": \"white\", \"linecolor\": \"white\", \"ticks\": \"\"}, \"bgcolor\": \"#E5ECF6\", \"caxis\": {\"gridcolor\": \"white\", \"linecolor\": \"white\", \"ticks\": \"\"}}, \"title\": {\"x\": 0.05}, \"xaxis\": {\"automargin\": true, \"gridcolor\": \"white\", \"linecolor\": \"white\", \"ticks\": \"\", \"title\": {\"standoff\": 15}, \"zerolinecolor\": \"white\", \"zerolinewidth\": 2}, \"yaxis\": {\"automargin\": true, \"gridcolor\": \"white\", \"linecolor\": \"white\", \"ticks\": \"\", \"title\": {\"standoff\": 15}, \"zerolinecolor\": \"white\", \"zerolinewidth\": 2}}}, \"xaxis\": {\"anchor\": \"y\", \"domain\": [0.0, 1.0], \"title\": {\"text\": \"x\"}, \"type\": \"log\"}, \"yaxis\": {\"anchor\": \"x\", \"domain\": [0.0, 1.0], \"title\": {\"text\": \"y\"}}},\n",
              "                        {\"responsive\": true}\n",
              "                    ).then(function(){\n",
              "                            \n",
              "var gd = document.getElementById('fdcc89e8-6d56-4d2c-9a33-df4dfe36d492');\n",
              "var x = new MutationObserver(function (mutations, observer) {{\n",
              "        var display = window.getComputedStyle(gd).display;\n",
              "        if (!display || display === 'none') {{\n",
              "            console.log([gd, 'removed!']);\n",
              "            Plotly.purge(gd);\n",
              "            observer.disconnect();\n",
              "        }}\n",
              "}});\n",
              "\n",
              "// Listen for the removal of the full notebook cells\n",
              "var notebookContainer = gd.closest('#notebook-container');\n",
              "if (notebookContainer) {{\n",
              "    x.observe(notebookContainer, {childList: true});\n",
              "}}\n",
              "\n",
              "// Listen for the clearing of the current output cell\n",
              "var outputEl = gd.closest('.output');\n",
              "if (outputEl) {{\n",
              "    x.observe(outputEl, {childList: true});\n",
              "}}\n",
              "\n",
              "                        })\n",
              "                };\n",
              "                \n",
              "            </script>\n",
              "        </div>\n",
              "</body>\n",
              "</html>"
            ]
          },
          "metadata": {
            "tags": []
          }
        }
      ]
    },
    {
      "cell_type": "markdown",
      "metadata": {
        "id": "V2NjTcnMY3yD",
        "colab_type": "text"
      },
      "source": [
        "The most UFO sightings are occured in **1999**"
      ]
    },
    {
      "cell_type": "code",
      "metadata": {
        "id": "5eha5preTFWU",
        "colab_type": "code",
        "colab": {}
      },
      "source": [
        ""
      ],
      "execution_count": 0,
      "outputs": []
    }
  ]
}