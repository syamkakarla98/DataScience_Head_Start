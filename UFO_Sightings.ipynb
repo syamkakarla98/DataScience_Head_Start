{
  "nbformat": 4,
  "nbformat_minor": 0,
  "metadata": {
    "colab": {
      "name": "UFO_Sightings.ipynb",
      "provenance": [],
      "collapsed_sections": [],
      "authorship_tag": "ABX9TyObU6FzlFYnb9AlCgU8P//K",
      "include_colab_link": true
    },
    "kernelspec": {
      "name": "python3",
      "display_name": "Python 3"
    }
  },
  "cells": [
    {
      "cell_type": "markdown",
      "metadata": {
        "id": "view-in-github",
        "colab_type": "text"
      },
      "source": [
        "<a href=\"https://colab.research.google.com/github/syamkakarla98/DataScience_Head_Start/blob/master/UFO_Sightings.ipynb\" target=\"_parent\"><img src=\"https://colab.research.google.com/assets/colab-badge.svg\" alt=\"Open In Colab\"/></a>"
      ]
    },
    {
      "cell_type": "markdown",
      "metadata": {
        "id": "sIwr-6JctPkN",
        "colab_type": "text"
      },
      "source": [
        "# **UFO Sightings**\n",
        "\n",
        "![alt text](https://images.foxtv.com/static.fox35orlando.com/www.fox35orlando.com/content/uploads/2019/10/932/524/ufo-aliens.jpg?ve=1&tl=1)\n",
        "\n",
        "### **Context**\n",
        "\n",
        "This dataset contains over 80,000 reports of UFO sightings over the last century.\n",
        "\n",
        "### **Content**\n",
        "\n",
        "There are two versions of this dataset: scrubbed and complete. The complete data includes entries where the location of the sighting was not found or blank (0.8146%) or have an erroneous or blank time (8.0237%). Since the reports date back to the 20th century, some older data might be obscured. Data contains city, state, time, description, and duration of each sighting.\n",
        "\n",
        "### **Inspiration**\n",
        "\n",
        "What areas of the country are most likely to have UFO sightings?\n",
        "Are there any trends in UFO sightings over time? Do they tend to be clustered or seasonal?\n",
        "Do clusters of UFO sightings correlate with landmarks, such as airports or government research centers?\n",
        "What are the most common UFO descriptions?\n",
        "\n",
        "### **Acknowledgement**\n",
        "This dataset was scraped, geolocated, and time standardized from NUFORC data by Sigmond Axel [here](https://github.com/planetsig/ufo-reports).\n",
        "\n",
        "\n",
        "Let's get started..."
      ]
    },
    {
      "cell_type": "markdown",
      "metadata": {
        "id": "5e0hm_pc6neo",
        "colab_type": "text"
      },
      "source": [
        "## Import Modules"
      ]
    },
    {
      "cell_type": "code",
      "metadata": {
        "id": "yeP6FhG2yhrw",
        "colab_type": "code",
        "colab": {}
      },
      "source": [
        "import pandas as pd\n",
        "import matplotlib.pyplot as plt\n",
        "import seaborn as sns\n",
        "import numpy as np\n",
        "plt.rcParams['figure.figsize'] = [12, 6]\n",
        "plt.style.use('seaborn-whitegrid')"
      ],
      "execution_count": 0,
      "outputs": []
    },
    {
      "cell_type": "markdown",
      "metadata": {
        "id": "1Fxz_Jot6ric",
        "colab_type": "text"
      },
      "source": [
        "## Read Data\n"
      ]
    },
    {
      "cell_type": "code",
      "metadata": {
        "id": "ATUR1We0s6q5",
        "colab_type": "code",
        "colab": {}
      },
      "source": [
        "df = pd.read_csv('https://bit.ly/uforeports')"
      ],
      "execution_count": 0,
      "outputs": []
    },
    {
      "cell_type": "markdown",
      "metadata": {
        "id": "R256V3I162Sn",
        "colab_type": "text"
      },
      "source": [
        "## Let's Start\n"
      ]
    },
    {
      "cell_type": "code",
      "metadata": {
        "id": "VmLkmxFUznYG",
        "colab_type": "code",
        "outputId": "09174f9a-3385-4f69-c26f-d1b896970706",
        "colab": {
          "base_uri": "https://localhost:8080/",
          "height": 195
        }
      },
      "source": [
        "# Viewving initial five samples of the dataset\n",
        "df.head()"
      ],
      "execution_count": 3,
      "outputs": [
        {
          "output_type": "execute_result",
          "data": {
            "text/html": [
              "<div>\n",
              "<style scoped>\n",
              "    .dataframe tbody tr th:only-of-type {\n",
              "        vertical-align: middle;\n",
              "    }\n",
              "\n",
              "    .dataframe tbody tr th {\n",
              "        vertical-align: top;\n",
              "    }\n",
              "\n",
              "    .dataframe thead th {\n",
              "        text-align: right;\n",
              "    }\n",
              "</style>\n",
              "<table border=\"1\" class=\"dataframe\">\n",
              "  <thead>\n",
              "    <tr style=\"text-align: right;\">\n",
              "      <th></th>\n",
              "      <th>City</th>\n",
              "      <th>Colors Reported</th>\n",
              "      <th>Shape Reported</th>\n",
              "      <th>State</th>\n",
              "      <th>Time</th>\n",
              "    </tr>\n",
              "  </thead>\n",
              "  <tbody>\n",
              "    <tr>\n",
              "      <th>0</th>\n",
              "      <td>Ithaca</td>\n",
              "      <td>NaN</td>\n",
              "      <td>TRIANGLE</td>\n",
              "      <td>NY</td>\n",
              "      <td>6/1/1930 22:00</td>\n",
              "    </tr>\n",
              "    <tr>\n",
              "      <th>1</th>\n",
              "      <td>Willingboro</td>\n",
              "      <td>NaN</td>\n",
              "      <td>OTHER</td>\n",
              "      <td>NJ</td>\n",
              "      <td>6/30/1930 20:00</td>\n",
              "    </tr>\n",
              "    <tr>\n",
              "      <th>2</th>\n",
              "      <td>Holyoke</td>\n",
              "      <td>NaN</td>\n",
              "      <td>OVAL</td>\n",
              "      <td>CO</td>\n",
              "      <td>2/15/1931 14:00</td>\n",
              "    </tr>\n",
              "    <tr>\n",
              "      <th>3</th>\n",
              "      <td>Abilene</td>\n",
              "      <td>NaN</td>\n",
              "      <td>DISK</td>\n",
              "      <td>KS</td>\n",
              "      <td>6/1/1931 13:00</td>\n",
              "    </tr>\n",
              "    <tr>\n",
              "      <th>4</th>\n",
              "      <td>New York Worlds Fair</td>\n",
              "      <td>NaN</td>\n",
              "      <td>LIGHT</td>\n",
              "      <td>NY</td>\n",
              "      <td>4/18/1933 19:00</td>\n",
              "    </tr>\n",
              "  </tbody>\n",
              "</table>\n",
              "</div>"
            ],
            "text/plain": [
              "                   City Colors Reported Shape Reported State             Time\n",
              "0                Ithaca             NaN       TRIANGLE    NY   6/1/1930 22:00\n",
              "1           Willingboro             NaN          OTHER    NJ  6/30/1930 20:00\n",
              "2               Holyoke             NaN           OVAL    CO  2/15/1931 14:00\n",
              "3               Abilene             NaN           DISK    KS   6/1/1931 13:00\n",
              "4  New York Worlds Fair             NaN          LIGHT    NY  4/18/1933 19:00"
            ]
          },
          "metadata": {
            "tags": []
          },
          "execution_count": 3
        }
      ]
    },
    {
      "cell_type": "code",
      "metadata": {
        "id": "iB-aicArz2b0",
        "colab_type": "code",
        "outputId": "f6f6cfa3-d972-4c74-e8f8-80662f2040ce",
        "colab": {
          "base_uri": "https://localhost:8080/",
          "height": 34
        }
      },
      "source": [
        "# Shape of the data\n",
        "df.shape"
      ],
      "execution_count": 4,
      "outputs": [
        {
          "output_type": "execute_result",
          "data": {
            "text/plain": [
              "(18241, 5)"
            ]
          },
          "metadata": {
            "tags": []
          },
          "execution_count": 4
        }
      ]
    },
    {
      "cell_type": "code",
      "metadata": {
        "id": "d-CTiygiz3RW",
        "colab_type": "code",
        "outputId": "cacb2fdf-3fbf-44e4-ca51-23658afdcef3",
        "colab": {
          "base_uri": "https://localhost:8080/",
          "height": 185
        }
      },
      "source": [
        "# Little information of the data\n",
        "df.info()"
      ],
      "execution_count": 5,
      "outputs": [
        {
          "output_type": "stream",
          "text": [
            "<class 'pandas.core.frame.DataFrame'>\n",
            "RangeIndex: 18241 entries, 0 to 18240\n",
            "Data columns (total 5 columns):\n",
            "City               18216 non-null object\n",
            "Colors Reported    2882 non-null object\n",
            "Shape Reported     15597 non-null object\n",
            "State              18241 non-null object\n",
            "Time               18241 non-null object\n",
            "dtypes: object(5)\n",
            "memory usage: 712.7+ KB\n"
          ],
          "name": "stdout"
        }
      ]
    },
    {
      "cell_type": "code",
      "metadata": {
        "id": "KoKw6TDQz9NT",
        "colab_type": "code",
        "outputId": "cc50ef0e-b388-47de-d1e7-56569529c375",
        "colab": {
          "base_uri": "https://localhost:8080/",
          "height": 166
        }
      },
      "source": [
        "# Describing the data \n",
        "df.describe()"
      ],
      "execution_count": 6,
      "outputs": [
        {
          "output_type": "execute_result",
          "data": {
            "text/html": [
              "<div>\n",
              "<style scoped>\n",
              "    .dataframe tbody tr th:only-of-type {\n",
              "        vertical-align: middle;\n",
              "    }\n",
              "\n",
              "    .dataframe tbody tr th {\n",
              "        vertical-align: top;\n",
              "    }\n",
              "\n",
              "    .dataframe thead th {\n",
              "        text-align: right;\n",
              "    }\n",
              "</style>\n",
              "<table border=\"1\" class=\"dataframe\">\n",
              "  <thead>\n",
              "    <tr style=\"text-align: right;\">\n",
              "      <th></th>\n",
              "      <th>City</th>\n",
              "      <th>Colors Reported</th>\n",
              "      <th>Shape Reported</th>\n",
              "      <th>State</th>\n",
              "      <th>Time</th>\n",
              "    </tr>\n",
              "  </thead>\n",
              "  <tbody>\n",
              "    <tr>\n",
              "      <th>count</th>\n",
              "      <td>18216</td>\n",
              "      <td>2882</td>\n",
              "      <td>15597</td>\n",
              "      <td>18241</td>\n",
              "      <td>18241</td>\n",
              "    </tr>\n",
              "    <tr>\n",
              "      <th>unique</th>\n",
              "      <td>6476</td>\n",
              "      <td>27</td>\n",
              "      <td>27</td>\n",
              "      <td>52</td>\n",
              "      <td>16145</td>\n",
              "    </tr>\n",
              "    <tr>\n",
              "      <th>top</th>\n",
              "      <td>Seattle</td>\n",
              "      <td>RED</td>\n",
              "      <td>LIGHT</td>\n",
              "      <td>CA</td>\n",
              "      <td>11/16/1999 19:00</td>\n",
              "    </tr>\n",
              "    <tr>\n",
              "      <th>freq</th>\n",
              "      <td>187</td>\n",
              "      <td>780</td>\n",
              "      <td>2803</td>\n",
              "      <td>2529</td>\n",
              "      <td>27</td>\n",
              "    </tr>\n",
              "  </tbody>\n",
              "</table>\n",
              "</div>"
            ],
            "text/plain": [
              "           City Colors Reported Shape Reported  State              Time\n",
              "count     18216            2882          15597  18241             18241\n",
              "unique     6476              27             27     52             16145\n",
              "top     Seattle             RED          LIGHT     CA  11/16/1999 19:00\n",
              "freq        187             780           2803   2529                27"
            ]
          },
          "metadata": {
            "tags": []
          },
          "execution_count": 6
        }
      ]
    },
    {
      "cell_type": "code",
      "metadata": {
        "id": "u5llAW_cz-i0",
        "colab_type": "code",
        "outputId": "3aafc634-732d-4cd8-c5b9-2375482b9c39",
        "colab": {
          "base_uri": "https://localhost:8080/",
          "height": 118
        }
      },
      "source": [
        "# let's see the count of null values in every attribute\n",
        "na = df.isna().sum()\n",
        "print(na)"
      ],
      "execution_count": 7,
      "outputs": [
        {
          "output_type": "stream",
          "text": [
            "City                  25\n",
            "Colors Reported    15359\n",
            "Shape Reported      2644\n",
            "State                  0\n",
            "Time                   0\n",
            "dtype: int64\n"
          ],
          "name": "stdout"
        }
      ]
    },
    {
      "cell_type": "markdown",
      "metadata": {
        "id": "1leK3NBs7kPq",
        "colab_type": "text"
      },
      "source": [
        "A count plot to see the count of NaN values in the data."
      ]
    },
    {
      "cell_type": "code",
      "metadata": {
        "id": "TExYwsrY0t-D",
        "colab_type": "code",
        "outputId": "a19eecea-10cd-43de-9cd0-f4fbf4266b3f",
        "colab": {
          "base_uri": "https://localhost:8080/",
          "height": 386
        }
      },
      "source": [
        "# na.plot(kind = 'bar');\n",
        "# or\n",
        "plt.figure(figsize=(12, 6))\n",
        "sns.barplot(x = na.index, y = na, palette='Set2')\n",
        "plt.ylabel('Count of NaN values')\n",
        "plt.xlabel('Attribute')\n",
        "plt.show()\n"
      ],
      "execution_count": 8,
      "outputs": [
        {
          "output_type": "display_data",
          "data": {
            "image/png": "[encoded data removed]",
            "text/plain": [
              "<Figure size 864x432 with 1 Axes>"
            ]
          },
          "metadata": {
            "tags": []
          }
        }
      ]
    },
    {
      "cell_type": "markdown",
      "metadata": {
        "id": "UD9NNFpt7tUn",
        "colab_type": "text"
      },
      "source": [
        "Let's analyse the attributes of the data:\n",
        "\n",
        "**1. City**"
      ]
    },
    {
      "cell_type": "code",
      "metadata": {
        "id": "1DV6tH638O3J",
        "colab_type": "code",
        "outputId": "6750318a-a624-4d64-ba87-099558e78f1f",
        "colab": {
          "base_uri": "https://localhost:8080/",
          "height": 101
        }
      },
      "source": [
        "df.City.describe()"
      ],
      "execution_count": 9,
      "outputs": [
        {
          "output_type": "execute_result",
          "data": {
            "text/plain": [
              "count       18216\n",
              "unique       6476\n",
              "top       Seattle\n",
              "freq          187\n",
              "Name: City, dtype: object"
            ]
          },
          "metadata": {
            "tags": []
          },
          "execution_count": 9
        }
      ]
    },
    {
      "cell_type": "markdown",
      "metadata": {
        "id": "xo-SKGDb9kaY",
        "colab_type": "text"
      },
      "source": [
        "Top 10 cities UFO sightings noted"
      ]
    },
    {
      "cell_type": "code",
      "metadata": {
        "id": "hIqy7q5R8O1O",
        "colab_type": "code",
        "outputId": "7d351c94-b4e3-4e28-dbad-2405a208a8ee",
        "colab": {
          "base_uri": "https://localhost:8080/",
          "height": 385
        }
      },
      "source": [
        "c = df.City.value_counts()[:10]\n",
        "sns.barplot(y = c.index, x = c)\n",
        "plt.xlabel('Count of UFO Sightings')\n",
        "plt.ylabel('City');"
      ],
      "execution_count": 10,
      "outputs": [
        {
          "output_type": "display_data",
          "data": {
            "image/png": "[encoded data removed]",
            "text/plain": [
              "<Figure size 864x432 with 1 Axes>"
            ]
          },
          "metadata": {
            "tags": []
          }
        }
      ]
    },
    {
      "cell_type": "markdown",
      "metadata": {
        "id": "X-P5JdMi_DBP",
        "colab_type": "text"
      },
      "source": [
        "The seattle has majorly notices UFO's.\n",
        "\n",
        "**2. Colors Reported**"
      ]
    },
    {
      "cell_type": "code",
      "metadata": {
        "id": "CEdJyinh_rEn",
        "colab_type": "code",
        "outputId": "806fea9d-d923-4ba5-db64-b618936a83fc",
        "colab": {
          "base_uri": "https://localhost:8080/",
          "height": 202
        }
      },
      "source": [
        "# Top 10 colors noticed and it's percentage\n",
        "df.loc[:, 'Colors Reported'].value_counts(normalize=True)[:10]"
      ],
      "execution_count": 11,
      "outputs": [
        {
          "output_type": "execute_result",
          "data": {
            "text/plain": [
              "RED               0.270645\n",
              "GREEN             0.184247\n",
              "ORANGE            0.183206\n",
              "BLUE              0.156142\n",
              "YELLOW            0.058640\n",
              "RED GREEN         0.030881\n",
              "RED BLUE          0.027065\n",
              "RED ORANGE        0.015267\n",
              "GREEN BLUE        0.011797\n",
              "RED GREEN BLUE    0.011450\n",
              "Name: Colors Reported, dtype: float64"
            ]
          },
          "metadata": {
            "tags": []
          },
          "execution_count": 11
        }
      ]
    },
    {
      "cell_type": "code",
      "metadata": {
        "id": "SkUCzKQv3NXN",
        "colab_type": "code",
        "outputId": "a3968495-a7d9-40a5-cd88-c74b67484a3f",
        "colab": {
          "base_uri": "https://localhost:8080/",
          "height": 493
        }
      },
      "source": [
        "plt.figure(figsize=(15, 8))\n",
        "sns.countplot(y = 'Colors Reported', data=df, palette='Set2');"
      ],
      "execution_count": 12,
      "outputs": [
        {
          "output_type": "display_data",
          "data": {
            "image/png": "[encoded data removed]",
            "text/plain": [
              "<Figure size 1080x576 with 1 Axes>"
            ]
          },
          "metadata": {
            "tags": []
          }
        }
      ]
    },
    {
      "cell_type": "markdown",
      "metadata": {
        "id": "Y_qx9pfhAAZb",
        "colab_type": "text"
      },
      "source": [
        "**3. Shape Reported**"
      ]
    },
    {
      "cell_type": "code",
      "metadata": {
        "id": "7CYp8Xkq48ap",
        "colab_type": "code",
        "outputId": "9f6ed744-0e45-4bc3-a8c3-b7678d75eb30",
        "colab": {
          "base_uri": "https://localhost:8080/",
          "height": 202
        }
      },
      "source": [
        "# Top 10 shapes of UFO's reported\n",
        "s = df.loc[:, 'Shape Reported'].value_counts()[:10]\n",
        "s"
      ],
      "execution_count": 13,
      "outputs": [
        {
          "output_type": "execute_result",
          "data": {
            "text/plain": [
              "LIGHT        2803\n",
              "DISK         2122\n",
              "TRIANGLE     1889\n",
              "OTHER        1402\n",
              "CIRCLE       1365\n",
              "SPHERE       1054\n",
              "FIREBALL     1039\n",
              "OVAL          845\n",
              "CIGAR         617\n",
              "FORMATION     434\n",
              "Name: Shape Reported, dtype: int64"
            ]
          },
          "metadata": {
            "tags": []
          },
          "execution_count": 13
        }
      ]
    },
    {
      "cell_type": "code",
      "metadata": {
        "id": "KxAbTU3NAjbt",
        "colab_type": "code",
        "outputId": "80edcd31-fa02-4bd7-ae10-f71d854a4335",
        "colab": {
          "base_uri": "https://localhost:8080/",
          "height": 371
        }
      },
      "source": [
        "sns.barplot(x = s.index, y = s, palette = 'Dark2');"
      ],
      "execution_count": 14,
      "outputs": [
        {
          "output_type": "display_data",
          "data": {
            "image/png": "[encoded data removed]",
            "text/plain": [
              "<Figure size 864x432 with 1 Axes>"
            ]
          },
          "metadata": {
            "tags": []
          }
        }
      ]
    },
    {
      "cell_type": "markdown",
      "metadata": {
        "id": "pv_56K1dBmCe",
        "colab_type": "text"
      },
      "source": [
        "Ligh, Disk and Triangle are the mostly reported shapes of the UFO's.\n",
        "\n",
        "**4. State**\n"
      ]
    },
    {
      "cell_type": "code",
      "metadata": {
        "id": "96Dwx755AuQE",
        "colab_type": "code",
        "outputId": "3aee1103-eccb-41c0-8e42-adb518befb03",
        "colab": {
          "base_uri": "https://localhost:8080/",
          "height": 907
        }
      },
      "source": [
        "st = df.State.value_counts()\n",
        "st"
      ],
      "execution_count": 15,
      "outputs": [
        {
          "output_type": "execute_result",
          "data": {
            "text/plain": [
              "CA    2529\n",
              "WA    1322\n",
              "TX    1027\n",
              "NY     914\n",
              "FL     837\n",
              "AZ     738\n",
              "OH     667\n",
              "IL     613\n",
              "PA     598\n",
              "MI     591\n",
              "OR     534\n",
              "MO     448\n",
              "NJ     370\n",
              "CO     367\n",
              "WI     357\n",
              "NC     356\n",
              "IN     326\n",
              "GA     325\n",
              "MA     322\n",
              "VA     299\n",
              "TN     286\n",
              "NV     284\n",
              "MN     254\n",
              "KY     244\n",
              "NM     241\n",
              "CT     225\n",
              "MD     215\n",
              "AR     206\n",
              "OK     193\n",
              "UT     193\n",
              "AL     193\n",
              "ME     181\n",
              "KS     176\n",
              "LA     174\n",
              "SC     166\n",
              "IA     162\n",
              "MT     144\n",
              "MS     139\n",
              "WV     132\n",
              "ID     130\n",
              "NH     125\n",
              "AK     116\n",
              "NE     101\n",
              "HI      85\n",
              "WY      69\n",
              "RI      67\n",
              "SD      57\n",
              "ND      51\n",
              "VT      44\n",
              "DE      43\n",
              "Fl       4\n",
              "Ca       1\n",
              "Name: State, dtype: int64"
            ]
          },
          "metadata": {
            "tags": []
          },
          "execution_count": 15
        }
      ]
    },
    {
      "cell_type": "code",
      "metadata": {
        "id": "D92fnyBYCIwz",
        "colab_type": "code",
        "outputId": "cb7f18f1-1b6d-4e92-86b4-d6bad6cf13e1",
        "colab": {
          "base_uri": "https://localhost:8080/",
          "height": 371
        }
      },
      "source": [
        "sns.barplot(x = st[:20].index, y = st[:20], palette='Set2');"
      ],
      "execution_count": 16,
      "outputs": [
        {
          "output_type": "display_data",
          "data": {
            "image/png": "[encoded data removed]",
            "text/plain": [
              "<Figure size 864x432 with 1 Axes>"
            ]
          },
          "metadata": {
            "tags": []
          }
        }
      ]
    },
    {
      "cell_type": "markdown",
      "metadata": {
        "id": "3QCLpO9AEN-0",
        "colab_type": "text"
      },
      "source": [
        "**California**, **Washinton**, **Texas**, **NewYork** and **Florida** are the top five U.S states have the most UFO sightings.\n",
        "\n",
        "**5.Time**"
      ]
    },
    {
      "cell_type": "code",
      "metadata": {
        "id": "U1ZmAYynC4-y",
        "colab_type": "code",
        "colab": {}
      },
      "source": [
        "# Converting the string datatype to datetime\n",
        "df['Time'] = pd.to_datetime(df.loc[:, 'Time'])"
      ],
      "execution_count": 0,
      "outputs": []
    },
    {
      "cell_type": "code",
      "metadata": {
        "id": "ZBzddjMlMqVD",
        "colab_type": "code",
        "colab": {}
      },
      "source": [
        "# Adding new attribute 'Year'\n",
        "df['Year'] = df.Time.dt.year.astype('int')"
      ],
      "execution_count": 0,
      "outputs": []
    },
    {
      "cell_type": "code",
      "metadata": {
        "id": "_c1z2uqcGw4U",
        "colab_type": "code",
        "outputId": "0ba3cf60-7155-4461-de86-182cd7a63af8",
        "colab": {
          "base_uri": "https://localhost:8080/",
          "height": 134
        }
      },
      "source": [
        "df.dtypes"
      ],
      "execution_count": 19,
      "outputs": [
        {
          "output_type": "execute_result",
          "data": {
            "text/plain": [
              "City                       object\n",
              "Colors Reported            object\n",
              "Shape Reported             object\n",
              "State                      object\n",
              "Time               datetime64[ns]\n",
              "Year                        int64\n",
              "dtype: object"
            ]
          },
          "metadata": {
            "tags": []
          },
          "execution_count": 19
        }
      ]
    },
    {
      "cell_type": "code",
      "metadata": {
        "id": "cojhqG7EHVcP",
        "colab_type": "code",
        "outputId": "b41251bf-152f-41f0-df98-8c22ea2a2d7e",
        "colab": {
          "base_uri": "https://localhost:8080/",
          "height": 218
        }
      },
      "source": [
        "d = df.Time.dt.year.value_counts()\n",
        "d"
      ],
      "execution_count": 20,
      "outputs": [
        {
          "output_type": "execute_result",
          "data": {
            "text/plain": [
              "1999    2774\n",
              "2000    2635\n",
              "1998    1743\n",
              "1995    1344\n",
              "1997    1237\n",
              "        ... \n",
              "1941       2\n",
              "1936       2\n",
              "1935       1\n",
              "1934       1\n",
              "1933       1\n",
              "Name: Time, Length: 68, dtype: int64"
            ]
          },
          "metadata": {
            "tags": []
          },
          "execution_count": 20
        }
      ]
    },
    {
      "cell_type": "code",
      "metadata": {
        "id": "JiGN6bpoHeiI",
        "colab_type": "code",
        "outputId": "093d5010-7c91-46bc-bf36-6ce0e87ac8b6",
        "colab": {
          "base_uri": "https://localhost:8080/",
          "height": 385
        }
      },
      "source": [
        "sns.lineplot(x = d.index, y = d, color=\"coral\")\n",
        "plt.xlabel('Year')\n",
        "plt.ylabel('Count of UFO Sightings');"
      ],
      "execution_count": 21,
      "outputs": [
        {
          "output_type": "display_data",
          "data": {
            "image/png": "[encoded data removed]",
            "text/plain": [
              "<Figure size 864x432 with 1 Axes>"
            ]
          },
          "metadata": {
            "tags": []
          }
        }
      ]
    },
    {
      "cell_type": "code",
      "metadata": {
        "id": "kRuI-lqCH5Ie",
        "colab_type": "code",
        "outputId": "c63606e5-b5a4-451d-9764-3b8294ccb44a",
        "colab": {
          "base_uri": "https://localhost:8080/",
          "height": 622
        }
      },
      "source": [
        "plt.figure(figsize=(30,  10))\n",
        "sns.barplot(x = d.index, y = d, palette='Set3')\n",
        "plt.xlabel('Year')\n",
        "plt.ylabel('Count of UFO Sightings');"
      ],
      "execution_count": 22,
      "outputs": [
        {
          "output_type": "display_data",
          "data": {
            "image/png": "[encoded data removed]",
            "text/plain": [
              "<Figure size 2160x720 with 1 Axes>"
            ]
          },
          "metadata": {
            "tags": []
          }
        }
      ]
    },
    {
      "cell_type": "code",
      "metadata": {
        "id": "LwlbKmI0OJ2i",
        "colab_type": "code",
        "outputId": "70f2b173-043a-4fa5-8659-48afccb0244b",
        "colab": {
          "base_uri": "https://localhost:8080/",
          "height": 542
        }
      },
      "source": [
        "# To see the plotly graph, use colab\n",
        "import plotly.express as px\n",
        "fig = px.scatter(x =d.index, y = d, size = d, color = d.index, hover_name = d.index, log_x=True,size_max=100, render_mode=\"webgl\")\n",
        "fig.show()"
      ],
      "execution_count": 23,
      "outputs": [
        {
          "output_type": "display_data",
          "data": {
            "text/html": [
              "<html>\n",
              "<head><meta charset=\"utf-8\" /></head>\n",
              "<body>\n",
              "    <div>\n",
              "            <script src=\"https://cdnjs.cloudflare.com/ajax/libs/mathjax/2.7.5/MathJax.js?config=TeX-AMS-MML_SVG\"></script><script type=\"text/javascript\">if (window.MathJax) {MathJax.Hub.Config({SVG: {font: \"STIX-Web\"}});}</script>\n",
              "                <script type=\"text/javascript\">window.PlotlyConfig = {MathJaxConfig: 'local'};</script>\n",
              "        <script src=\"https://cdn.plot.ly/plotly-latest.min.js\"></script>    \n",
              "            <div id=\"736226c1-3e49-488b-88af-66088dbd9161\" class=\"plotly-graph-div\" style=\"height:525px; width:100%;\"></div>\n",
              "            <script type=\"text/javascript\">\n",
              "                \n",
              "                    window.PLOTLYENV=window.PLOTLYENV || {};\n",
              "                    \n",
              "                if (document.getElementById(\"736226c1-3e49-488b-88af-66088dbd9161\")) {\n",
              "                    Plotly.newPlot(\n",
              "                        '736226c1-3e49-488b-88af-66088dbd9161',\n",
              "                        [{\"hoverlabel\": {\"namelength\": 0}, \"hovertemplate\": \"<b>%{hovertext}</b><br><br>x=%{x}<br>y=%{y}<br>size=%{marker.size}<br>color=%{marker.color}\", \"hovertext\": [1999.0, 2000.0, 1998.0, 1995.0, 1997.0, 1996.0, 1994.0, 1978.0, 1975.0, 1993.0, 1976.0, 1974.0, 1977.0, 1989.0, 1992.0, 1980.0, 1990.0, 1979.0, 1988.0, 1973.0, 1991.0, 1968.0, 1985.0, 1987.0, 1966.0, 1967.0, 1965.0, 1986.0, 1982.0, 1984.0, 1981.0, 1972.0, 1969.0, 1983.0, 1970.0, 1971.0, 1964.0, 1963.0, 1957.0, 1962.0, 1960.0, 1959.0, 1954.0, 1958.0, 1952.0, 1961.0, 1956.0, 1947.0, 1953.0, 1955.0, 1950.0, 1951.0, 1949.0, 1945.0, 1948.0, 1944.0, 1946.0, 1943.0, 1939.0, 1942.0, 1931.0, 1930.0, 1937.0, 1941.0, 1936.0, 1935.0, 1934.0, 1933.0], \"legendgroup\": \"\", \"marker\": {\"color\": [1999, 2000, 1998, 1995, 1997, 1996, 1994, 1978, 1975, 1993, 1976, 1974, 1977, 1989, 1992, 1980, 1990, 1979, 1988, 1973, 1991, 1968, 1985, 1987, 1966, 1967, 1965, 1986, 1982, 1984, 1981, 1972, 1969, 1983, 1970, 1971, 1964, 1963, 1957, 1962, 1960, 1959, 1954, 1958, 1952, 1961, 1956, 1947, 1953, 1955, 1950, 1951, 1949, 1945, 1948, 1944, 1946, 1943, 1939, 1942, 1931, 1930, 1937, 1941, 1936, 1935, 1934, 1933], \"coloraxis\": \"coloraxis\", \"size\": [2774, 2635, 1743, 1344, 1237, 851, 406, 326, 312, 292, 281, 261, 258, 247, 245, 244, 237, 237, 232, 227, 220, 218, 211, 210, 203, 196, 195, 186, 186, 177, 175, 162, 154, 148, 138, 118, 101, 85, 78, 72, 67, 57, 55, 53, 52, 50, 46, 41, 36, 33, 31, 21, 19, 9, 9, 8, 8, 5, 3, 3, 2, 2, 2, 2, 2, 1, 1, 1], \"sizemode\": \"area\", \"sizeref\": 0.2774, \"symbol\": \"circle\"}, \"mode\": \"markers\", \"name\": \"\", \"showlegend\": false, \"type\": \"scattergl\", \"x\": [1999, 2000, 1998, 1995, 1997, 1996, 1994, 1978, 1975, 1993, 1976, 1974, 1977, 1989, 1992, 1980, 1990, 1979, 1988, 1973, 1991, 1968, 1985, 1987, 1966, 1967, 1965, 1986, 1982, 1984, 1981, 1972, 1969, 1983, 1970, 1971, 1964, 1963, 1957, 1962, 1960, 1959, 1954, 1958, 1952, 1961, 1956, 1947, 1953, 1955, 1950, 1951, 1949, 1945, 1948, 1944, 1946, 1943, 1939, 1942, 1931, 1930, 1937, 1941, 1936, 1935, 1934, 1933], \"xaxis\": \"x\", \"y\": [2774, 2635, 1743, 1344, 1237, 851, 406, 326, 312, 292, 281, 261, 258, 247, 245, 244, 237, 237, 232, 227, 220, 218, 211, 210, 203, 196, 195, 186, 186, 177, 175, 162, 154, 148, 138, 118, 101, 85, 78, 72, 67, 57, 55, 53, 52, 50, 46, 41, 36, 33, 31, 21, 19, 9, 9, 8, 8, 5, 3, 3, 2, 2, 2, 2, 2, 1, 1, 1], \"yaxis\": \"y\"}],\n",
              "                        {\"coloraxis\": {\"colorbar\": {\"title\": {\"text\": \"color\"}}, \"colorscale\": [[0.0, \"#0d0887\"], [0.1111111111111111, \"#46039f\"], [0.2222222222222222, \"#7201a8\"], [0.3333333333333333, \"#9c179e\"], [0.4444444444444444, \"#bd3786\"], [0.5555555555555556, \"#d8576b\"], [0.6666666666666666, \"#ed7953\"], [0.7777777777777778, \"#fb9f3a\"], [0.8888888888888888, \"#fdca26\"], [1.0, \"#f0f921\"]]}, \"legend\": {\"itemsizing\": \"constant\", \"tracegroupgap\": 0}, \"margin\": {\"t\": 60}, \"template\": {\"data\": {\"bar\": [{\"error_x\": {\"color\": \"#2a3f5f\"}, \"error_y\": {\"color\": \"#2a3f5f\"}, \"marker\": {\"line\": {\"color\": \"#E5ECF6\", \"width\": 0.5}}, \"type\": \"bar\"}], \"barpolar\": [{\"marker\": {\"line\": {\"color\": \"#E5ECF6\", \"width\": 0.5}}, \"type\": \"barpolar\"}], \"carpet\": [{\"aaxis\": {\"endlinecolor\": \"#2a3f5f\", \"gridcolor\": \"white\", \"linecolor\": \"white\", \"minorgridcolor\": \"white\", \"startlinecolor\": \"#2a3f5f\"}, \"baxis\": {\"endlinecolor\": \"#2a3f5f\", \"gridcolor\": \"white\", \"linecolor\": \"white\", \"minorgridcolor\": \"white\", \"startlinecolor\": \"#2a3f5f\"}, \"type\": \"carpet\"}], \"choropleth\": [{\"colorbar\": {\"outlinewidth\": 0, \"ticks\": \"\"}, \"type\": \"choropleth\"}], \"contour\": [{\"colorbar\": {\"outlinewidth\": 0, \"ticks\": \"\"}, \"colorscale\": [[0.0, \"#0d0887\"], [0.1111111111111111, \"#46039f\"], [0.2222222222222222, \"#7201a8\"], [0.3333333333333333, \"#9c179e\"], [0.4444444444444444, \"#bd3786\"], [0.5555555555555556, \"#d8576b\"], [0.6666666666666666, \"#ed7953\"], [0.7777777777777778, \"#fb9f3a\"], [0.8888888888888888, \"#fdca26\"], [1.0, \"#f0f921\"]], \"type\": \"contour\"}], \"contourcarpet\": [{\"colorbar\": {\"outlinewidth\": 0, \"ticks\": \"\"}, \"type\": \"contourcarpet\"}], \"heatmap\": [{\"colorbar\": {\"outlinewidth\": 0, \"ticks\": \"\"}, \"colorscale\": [[0.0, \"#0d0887\"], [0.1111111111111111, \"#46039f\"], [0.2222222222222222, \"#7201a8\"], [0.3333333333333333, \"#9c179e\"], [0.4444444444444444, \"#bd3786\"], [0.5555555555555556, \"#d8576b\"], [0.6666666666666666, \"#ed7953\"], [0.7777777777777778, \"#fb9f3a\"], [0.8888888888888888, \"#fdca26\"], [1.0, \"#f0f921\"]], \"type\": \"heatmap\"}], \"heatmapgl\": [{\"colorbar\": {\"outlinewidth\": 0, \"ticks\": \"\"}, \"colorscale\": [[0.0, \"#0d0887\"], [0.1111111111111111, \"#46039f\"], [0.2222222222222222, \"#7201a8\"], [0.3333333333333333, \"#9c179e\"], [0.4444444444444444, \"#bd3786\"], [0.5555555555555556, \"#d8576b\"], [0.6666666666666666, \"#ed7953\"], [0.7777777777777778, \"#fb9f3a\"], [0.8888888888888888, \"#fdca26\"], [1.0, \"#f0f921\"]], \"type\": \"heatmapgl\"}], \"histogram\": [{\"marker\": {\"colorbar\": {\"outlinewidth\": 0, \"ticks\": \"\"}}, \"type\": \"histogram\"}], \"histogram2d\": [{\"colorbar\": {\"outlinewidth\": 0, \"ticks\": \"\"}, \"colorscale\": [[0.0, \"#0d0887\"], [0.1111111111111111, \"#46039f\"], [0.2222222222222222, \"#7201a8\"], [0.3333333333333333, \"#9c179e\"], [0.4444444444444444, \"#bd3786\"], [0.5555555555555556, \"#d8576b\"], [0.6666666666666666, \"#ed7953\"], [0.7777777777777778, \"#fb9f3a\"], [0.8888888888888888, \"#fdca26\"], [1.0, \"#f0f921\"]], \"type\": \"histogram2d\"}], \"histogram2dcontour\": [{\"colorbar\": {\"outlinewidth\": 0, \"ticks\": \"\"}, \"colorscale\": [[0.0, \"#0d0887\"], [0.1111111111111111, \"#46039f\"], [0.2222222222222222, \"#7201a8\"], [0.3333333333333333, \"#9c179e\"], [0.4444444444444444, \"#bd3786\"], [0.5555555555555556, \"#d8576b\"], [0.6666666666666666, \"#ed7953\"], [0.7777777777777778, \"#fb9f3a\"], [0.8888888888888888, \"#fdca26\"], [1.0, \"#f0f921\"]], \"type\": \"histogram2dcontour\"}], \"mesh3d\": [{\"colorbar\": {\"outlinewidth\": 0, \"ticks\": \"\"}, \"type\": \"mesh3d\"}], \"parcoords\": [{\"line\": {\"colorbar\": {\"outlinewidth\": 0, \"ticks\": \"\"}}, \"type\": \"parcoords\"}], \"pie\": [{\"automargin\": true, \"type\": \"pie\"}], \"scatter\": [{\"marker\": {\"colorbar\": {\"outlinewidth\": 0, \"ticks\": \"\"}}, \"type\": \"scatter\"}], \"scatter3d\": [{\"line\": {\"colorbar\": {\"outlinewidth\": 0, \"ticks\": \"\"}}, \"marker\": {\"colorbar\": {\"outlinewidth\": 0, \"ticks\": \"\"}}, \"type\": \"scatter3d\"}], \"scattercarpet\": [{\"marker\": {\"colorbar\": {\"outlinewidth\": 0, \"ticks\": \"\"}}, \"type\": \"scattercarpet\"}], \"scattergeo\": [{\"marker\": {\"colorbar\": {\"outlinewidth\": 0, \"ticks\": \"\"}}, \"type\": \"scattergeo\"}], \"scattergl\": [{\"marker\": {\"colorbar\": {\"outlinewidth\": 0, \"ticks\": \"\"}}, \"type\": \"scattergl\"}], \"scattermapbox\": [{\"marker\": {\"colorbar\": {\"outlinewidth\": 0, \"ticks\": \"\"}}, \"type\": \"scattermapbox\"}], \"scatterpolar\": [{\"marker\": {\"colorbar\": {\"outlinewidth\": 0, \"ticks\": \"\"}}, \"type\": \"scatterpolar\"}], \"scatterpolargl\": [{\"marker\": {\"colorbar\": {\"outlinewidth\": 0, \"ticks\": \"\"}}, \"type\": \"scatterpolargl\"}], \"scatterternary\": [{\"marker\": {\"colorbar\": {\"outlinewidth\": 0, \"ticks\": \"\"}}, \"type\": \"scatterternary\"}], \"surface\": [{\"colorbar\": {\"outlinewidth\": 0, \"ticks\": \"\"}, \"colorscale\": [[0.0, \"#0d0887\"], [0.1111111111111111, \"#46039f\"], [0.2222222222222222, \"#7201a8\"], [0.3333333333333333, \"#9c179e\"], [0.4444444444444444, \"#bd3786\"], [0.5555555555555556, \"#d8576b\"], [0.6666666666666666, \"#ed7953\"], [0.7777777777777778, \"#fb9f3a\"], [0.8888888888888888, \"#fdca26\"], [1.0, \"#f0f921\"]], \"type\": \"surface\"}], \"table\": [{\"cells\": {\"fill\": {\"color\": \"#EBF0F8\"}, \"line\": {\"color\": \"white\"}}, \"header\": {\"fill\": {\"color\": \"#C8D4E3\"}, \"line\": {\"color\": \"white\"}}, \"type\": \"table\"}]}, \"layout\": {\"annotationdefaults\": {\"arrowcolor\": \"#2a3f5f\", \"arrowhead\": 0, \"arrowwidth\": 1}, \"coloraxis\": {\"colorbar\": {\"outlinewidth\": 0, \"ticks\": \"\"}}, \"colorscale\": {\"diverging\": [[0, \"#8e0152\"], [0.1, \"#c51b7d\"], [0.2, \"#de77ae\"], [0.3, \"#f1b6da\"], [0.4, \"#fde0ef\"], [0.5, \"#f7f7f7\"], [0.6, \"#e6f5d0\"], [0.7, \"#b8e186\"], [0.8, \"#7fbc41\"], [0.9, \"#4d9221\"], [1, \"#276419\"]], \"sequential\": [[0.0, \"#0d0887\"], [0.1111111111111111, \"#46039f\"], [0.2222222222222222, \"#7201a8\"], [0.3333333333333333, \"#9c179e\"], [0.4444444444444444, \"#bd3786\"], [0.5555555555555556, \"#d8576b\"], [0.6666666666666666, \"#ed7953\"], [0.7777777777777778, \"#fb9f3a\"], [0.8888888888888888, \"#fdca26\"], [1.0, \"#f0f921\"]], \"sequentialminus\": [[0.0, \"#0d0887\"], [0.1111111111111111, \"#46039f\"], [0.2222222222222222, \"#7201a8\"], [0.3333333333333333, \"#9c179e\"], [0.4444444444444444, \"#bd3786\"], [0.5555555555555556, \"#d8576b\"], [0.6666666666666666, \"#ed7953\"], [0.7777777777777778, \"#fb9f3a\"], [0.8888888888888888, \"#fdca26\"], [1.0, \"#f0f921\"]]}, \"colorway\": [\"#636efa\", \"#EF553B\", \"#00cc96\", \"#ab63fa\", \"#FFA15A\", \"#19d3f3\", \"#FF6692\", \"#B6E880\", \"#FF97FF\", \"#FECB52\"], \"font\": {\"color\": \"#2a3f5f\"}, \"geo\": {\"bgcolor\": \"white\", \"lakecolor\": \"white\", \"landcolor\": \"#E5ECF6\", \"showlakes\": true, \"showland\": true, \"subunitcolor\": \"white\"}, \"hoverlabel\": {\"align\": \"left\"}, \"hovermode\": \"closest\", \"mapbox\": {\"style\": \"light\"}, \"paper_bgcolor\": \"white\", \"plot_bgcolor\": \"#E5ECF6\", \"polar\": {\"angularaxis\": {\"gridcolor\": \"white\", \"linecolor\": \"white\", \"ticks\": \"\"}, \"bgcolor\": \"#E5ECF6\", \"radialaxis\": {\"gridcolor\": \"white\", \"linecolor\": \"white\", \"ticks\": \"\"}}, \"scene\": {\"xaxis\": {\"backgroundcolor\": \"#E5ECF6\", \"gridcolor\": \"white\", \"gridwidth\": 2, \"linecolor\": \"white\", \"showbackground\": true, \"ticks\": \"\", \"zerolinecolor\": \"white\"}, \"yaxis\": {\"backgroundcolor\": \"#E5ECF6\", \"gridcolor\": \"white\", \"gridwidth\": 2, \"linecolor\": \"white\", \"showbackground\": true, \"ticks\": \"\", \"zerolinecolor\": \"white\"}, \"zaxis\": {\"backgroundcolor\": \"#E5ECF6\", \"gridcolor\": \"white\", \"gridwidth\": 2, \"linecolor\": \"white\", \"showbackground\": true, \"ticks\": \"\", \"zerolinecolor\": \"white\"}}, \"shapedefaults\": {\"line\": {\"color\": \"#2a3f5f\"}}, \"ternary\": {\"aaxis\": {\"gridcolor\": \"white\", \"linecolor\": \"white\", \"ticks\": \"\"}, \"baxis\": {\"gridcolor\": \"white\", \"linecolor\": \"white\", \"ticks\": \"\"}, \"bgcolor\": \"#E5ECF6\", \"caxis\": {\"gridcolor\": \"white\", \"linecolor\": \"white\", \"ticks\": \"\"}}, \"title\": {\"x\": 0.05}, \"xaxis\": {\"automargin\": true, \"gridcolor\": \"white\", \"linecolor\": \"white\", \"ticks\": \"\", \"title\": {\"standoff\": 15}, \"zerolinecolor\": \"white\", \"zerolinewidth\": 2}, \"yaxis\": {\"automargin\": true, \"gridcolor\": \"white\", \"linecolor\": \"white\", \"ticks\": \"\", \"title\": {\"standoff\": 15}, \"zerolinecolor\": \"white\", \"zerolinewidth\": 2}}}, \"xaxis\": {\"anchor\": \"y\", \"domain\": [0.0, 1.0], \"title\": {\"text\": \"x\"}, \"type\": \"log\"}, \"yaxis\": {\"anchor\": \"x\", \"domain\": [0.0, 1.0], \"title\": {\"text\": \"y\"}}},\n",
              "                        {\"responsive\": true}\n",
              "                    ).then(function(){\n",
              "                            \n",
              "var gd = document.getElementById('736226c1-3e49-488b-88af-66088dbd9161');\n",
              "var x = new MutationObserver(function (mutations, observer) {{\n",
              "        var display = window.getComputedStyle(gd).display;\n",
              "        if (!display || display === 'none') {{\n",
              "            console.log([gd, 'removed!']);\n",
              "            Plotly.purge(gd);\n",
              "            observer.disconnect();\n",
              "        }}\n",
              "}});\n",
              "\n",
              "// Listen for the removal of the full notebook cells\n",
              "var notebookContainer = gd.closest('#notebook-container');\n",
              "if (notebookContainer) {{\n",
              "    x.observe(notebookContainer, {childList: true});\n",
              "}}\n",
              "\n",
              "// Listen for the clearing of the current output cell\n",
              "var outputEl = gd.closest('.output');\n",
              "if (outputEl) {{\n",
              "    x.observe(outputEl, {childList: true});\n",
              "}}\n",
              "\n",
              "                        })\n",
              "                };\n",
              "                \n",
              "            </script>\n",
              "        </div>\n",
              "</body>\n",
              "</html>"
            ]
          },
          "metadata": {
            "tags": []
          }
        }
      ]
    },
    {
      "cell_type": "markdown",
      "metadata": {
        "id": "V2NjTcnMY3yD",
        "colab_type": "text"
      },
      "source": [
        "The most UFO sightings are occured in **1999**\n",
        "\n"
      ]
    },
    {
      "cell_type": "markdown",
      "metadata": {
        "id": "2YEByf2KPkSs",
        "colab_type": "text"
      },
      "source": [
        "## Lets' see few questions\n"
      ]
    },
    {
      "cell_type": "markdown",
      "metadata": {
        "id": "-wpsdDHUPkdV",
        "colab_type": "text"
      },
      "source": [
        "\n",
        "### 1. In which day most of the UFO sightings noticed"
      ]
    },
    {
      "cell_type": "code",
      "metadata": {
        "id": "6HpGUpqbMMiV",
        "colab_type": "code",
        "colab": {
          "base_uri": "https://localhost:8080/",
          "height": 385
        },
        "outputId": "828728bb-1628-4334-8ebe-6d7f3bf8ce60"
      },
      "source": [
        "wk = df.Time.dt.weekday_name.value_counts().sort_index()\n",
        "\n",
        "sns.barplot(x = wk.index, y = wk, palette = 'Set2')\n",
        "plt.xlabel('WeekDay')\n",
        "plt.ylabel('Count of Sightings');"
      ],
      "execution_count": 64,
      "outputs": [
        {
          "output_type": "display_data",
          "data": {
            "image/png": "[encoded data removed]",
            "text/plain": [
              "<Figure size 864x432 with 1 Axes>"
            ]
          },
          "metadata": {
            "tags": []
          }
        }
      ]
    },
    {
      "cell_type": "markdown",
      "metadata": {
        "id": "ga0e9XJZPrTS",
        "colab_type": "text"
      },
      "source": [
        "Based on the data, **Tuesday** has reported mostly."
      ]
    },
    {
      "cell_type": "markdown",
      "metadata": {
        "id": "eVJm_nR3Ne5Z",
        "colab_type": "text"
      },
      "source": [
        "\n",
        "\n",
        "### 2. In which state UFO sightings are reported."
      ]
    },
    {
      "cell_type": "code",
      "metadata": {
        "id": "VVrvN-L4Mmpp",
        "colab_type": "code",
        "colab": {
          "base_uri": "https://localhost:8080/",
          "height": 50
        },
        "outputId": "7191b4b1-2399-45e5-f675-a087941d9bef"
      },
      "source": [
        "df.State.value_counts()[:1]"
      ],
      "execution_count": 42,
      "outputs": [
        {
          "output_type": "execute_result",
          "data": {
            "text/plain": [
              "CA    2529\n",
              "Name: State, dtype: int64"
            ]
          },
          "metadata": {
            "tags": []
          },
          "execution_count": 42
        }
      ]
    },
    {
      "cell_type": "markdown",
      "metadata": {
        "id": "ZI4yBOPqPJZo",
        "colab_type": "text"
      },
      "source": [
        "People of **California State** has mostly reported the sightings of UFO."
      ]
    },
    {
      "cell_type": "markdown",
      "metadata": {
        "id": "N4uGYRnUQAES",
        "colab_type": "text"
      },
      "source": [
        "### 3. In Day or Night UFO sightings occured mostly"
      ]
    },
    {
      "cell_type": "markdown",
      "metadata": {
        "id": "UwJIkKeGS8BR",
        "colab_type": "text"
      },
      "source": [
        "Let's take the count of sightings noticed and sum up them based on the hour.\n",
        "\n",
        "Day :   6 to 18\n",
        "Night: 19 to upto 5"
      ]
    },
    {
      "cell_type": "code",
      "metadata": {
        "id": "cI-Xf-rTP_Ez",
        "colab_type": "code",
        "colab": {
          "base_uri": "https://localhost:8080/",
          "height": 385
        },
        "outputId": "d6277216-44b0-4f8b-e416-6617fdf3021f"
      },
      "source": [
        "sights = df.Time.dt.hour.value_counts().sort_index()\n",
        "# let's visualize\n",
        "sns.barplot(x = sights.index, y = sights, palette = \"Set2\")\n",
        "plt.xlabel('Hour')\n",
        "plt.ylabel('Count of Sightings');"
      ],
      "execution_count": 65,
      "outputs": [
        {
          "output_type": "display_data",
          "data": {
            "image/png": "[encoded data removed]",
            "text/plain": [
              "<Figure size 864x432 with 1 Axes>"
            ]
          },
          "metadata": {
            "tags": []
          }
        }
      ]
    },
    {
      "cell_type": "code",
      "metadata": {
        "id": "GdFYW8gUP5eS",
        "colab_type": "code",
        "colab": {
          "base_uri": "https://localhost:8080/",
          "height": 50
        },
        "outputId": "9c1eac01-c7e9-4221-f097-f34cb9f79eef"
      },
      "source": [
        "print('Day: ', sights[6:18].sum(), '\\nNight: ', sights[list(range(19,24))+list(range(0,6))].sum())"
      ],
      "execution_count": 78,
      "outputs": [
        {
          "output_type": "stream",
          "text": [
            "Day:  3736 \n",
            "Night:  13530\n"
          ],
          "name": "stdout"
        }
      ]
    },
    {
      "cell_type": "code",
      "metadata": {
        "id": "Y53JqFxwOqmz",
        "colab_type": "code",
        "colab": {
          "base_uri": "https://localhost:8080/",
          "height": 34
        },
        "outputId": "0a4fe29a-13d8-4c38-f72e-23e9f9296601"
      },
      "source": [
        "print('In Day more UFO sightings occured'  if sights[6:18].sum() > sights[list(range(19,24))+list(range(0,6))].sum() else 'In Nifgt more UFO sightings occured')"
      ],
      "execution_count": 79,
      "outputs": [
        {
          "output_type": "stream",
          "text": [
            "In Nifgt more UFO sightings occured\n"
          ],
          "name": "stdout"
        }
      ]
    },
    {
      "cell_type": "markdown",
      "metadata": {
        "id": "fmCYJsaCWvuU",
        "colab_type": "text"
      },
      "source": [
        "Hence, UFO sightins are more occured during **Night**"
      ]
    }
  ]
}