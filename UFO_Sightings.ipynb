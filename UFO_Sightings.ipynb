{
  "nbformat": 4,
  "nbformat_minor": 0,
  "metadata": {
    "colab": {
      "name": "UFO_Sightings.ipynb",
      "provenance": [],
      "collapsed_sections": [],
      "authorship_tag": "ABX9TyMFcOgc72/f6FkutsWXOKon",
      "include_colab_link": true
    },
    "kernelspec": {
      "name": "python3",
      "display_name": "Python 3"
    }
  },
  "cells": [
    {
      "cell_type": "markdown",
      "metadata": {
        "id": "view-in-github",
        "colab_type": "text"
      },
      "source": [
        "<a href=\"https://colab.research.google.com/github/syamkakarla98/DataScience_Head_Start/blob/master/UFO_Sightings.ipynb\" target=\"_parent\"><img src=\"https://colab.research.google.com/assets/colab-badge.svg\" alt=\"Open In Colab\"/></a>"
      ]
    },
    {
      "cell_type": "markdown",
      "metadata": {
        "id": "sIwr-6JctPkN",
        "colab_type": "text"
      },
      "source": [
        "# **UFO Sightings**\n",
        "\n",
        "![alt text](https://images.foxtv.com/static.fox35orlando.com/www.fox35orlando.com/content/uploads/2019/10/932/524/ufo-aliens.jpg?ve=1&tl=1)\n",
        "\n",
        "### **Context**\n",
        "\n",
        "This dataset contains over 80,000 reports of UFO sightings over the last century.\n",
        "\n",
        "### **Content**\n",
        "\n",
        "There are two versions of this dataset: scrubbed and complete. The complete data includes entries where the location of the sighting was not found or blank (0.8146%) or have an erroneous or blank time (8.0237%). Since the reports date back to the 20th century, some older data might be obscured. Data contains city, state, time, description, and duration of each sighting.\n",
        "\n",
        "### **Inspiration**\n",
        "\n",
        "What areas of the country are most likely to have UFO sightings?\n",
        "Are there any trends in UFO sightings over time? Do they tend to be clustered or seasonal?\n",
        "Do clusters of UFO sightings correlate with landmarks, such as airports or government research centers?\n",
        "What are the most common UFO descriptions?\n",
        "\n",
        "### **Acknowledgement**\n",
        "This dataset was scraped, geolocated, and time standardized from NUFORC data by Sigmond Axel [here](https://github.com/planetsig/ufo-reports).\n",
        "\n",
        "\n",
        "Let's get started..."
      ]
    },
    {
      "cell_type": "markdown",
      "metadata": {
        "id": "5e0hm_pc6neo",
        "colab_type": "text"
      },
      "source": [
        "## Import Modules"
      ]
    },
    {
      "cell_type": "code",
      "metadata": {
        "id": "yeP6FhG2yhrw",
        "colab_type": "code",
        "colab": {}
      },
      "source": [
        "import pandas as pd\n",
        "import matplotlib.pyplot as plt\n",
        "import seaborn as sns\n",
        "import numpy as np\n",
        "plt.rcParams['figure.figsize'] = [12, 6]"
      ],
      "execution_count": 0,
      "outputs": []
    },
    {
      "cell_type": "markdown",
      "metadata": {
        "id": "1Fxz_Jot6ric",
        "colab_type": "text"
      },
      "source": [
        "## Read Data\n"
      ]
    },
    {
      "cell_type": "code",
      "metadata": {
        "id": "ATUR1We0s6q5",
        "colab_type": "code",
        "colab": {}
      },
      "source": [
        "df = pd.read_csv('https://bit.ly/uforeports')"
      ],
      "execution_count": 0,
      "outputs": []
    },
    {
      "cell_type": "markdown",
      "metadata": {
        "id": "R256V3I162Sn",
        "colab_type": "text"
      },
      "source": [
        "## Let's Start\n"
      ]
    },
    {
      "cell_type": "code",
      "metadata": {
        "id": "VmLkmxFUznYG",
        "colab_type": "code",
        "colab": {
          "base_uri": "https://localhost:8080/",
          "height": 195
        },
        "outputId": "6ee0852f-5865-4e72-e98b-1b5b346ac2e9"
      },
      "source": [
        "# Viewving initial five samples of the dataset\n",
        "df.head()"
      ],
      "execution_count": 70,
      "outputs": [
        {
          "output_type": "execute_result",
          "data": {
            "text/html": [
              "<div>\n",
              "<style scoped>\n",
              "    .dataframe tbody tr th:only-of-type {\n",
              "        vertical-align: middle;\n",
              "    }\n",
              "\n",
              "    .dataframe tbody tr th {\n",
              "        vertical-align: top;\n",
              "    }\n",
              "\n",
              "    .dataframe thead th {\n",
              "        text-align: right;\n",
              "    }\n",
              "</style>\n",
              "<table border=\"1\" class=\"dataframe\">\n",
              "  <thead>\n",
              "    <tr style=\"text-align: right;\">\n",
              "      <th></th>\n",
              "      <th>City</th>\n",
              "      <th>Colors Reported</th>\n",
              "      <th>Shape Reported</th>\n",
              "      <th>State</th>\n",
              "      <th>Time</th>\n",
              "    </tr>\n",
              "  </thead>\n",
              "  <tbody>\n",
              "    <tr>\n",
              "      <th>0</th>\n",
              "      <td>Ithaca</td>\n",
              "      <td>NaN</td>\n",
              "      <td>TRIANGLE</td>\n",
              "      <td>NY</td>\n",
              "      <td>6/1/1930 22:00</td>\n",
              "    </tr>\n",
              "    <tr>\n",
              "      <th>1</th>\n",
              "      <td>Willingboro</td>\n",
              "      <td>NaN</td>\n",
              "      <td>OTHER</td>\n",
              "      <td>NJ</td>\n",
              "      <td>6/30/1930 20:00</td>\n",
              "    </tr>\n",
              "    <tr>\n",
              "      <th>2</th>\n",
              "      <td>Holyoke</td>\n",
              "      <td>NaN</td>\n",
              "      <td>OVAL</td>\n",
              "      <td>CO</td>\n",
              "      <td>2/15/1931 14:00</td>\n",
              "    </tr>\n",
              "    <tr>\n",
              "      <th>3</th>\n",
              "      <td>Abilene</td>\n",
              "      <td>NaN</td>\n",
              "      <td>DISK</td>\n",
              "      <td>KS</td>\n",
              "      <td>6/1/1931 13:00</td>\n",
              "    </tr>\n",
              "    <tr>\n",
              "      <th>4</th>\n",
              "      <td>New York Worlds Fair</td>\n",
              "      <td>NaN</td>\n",
              "      <td>LIGHT</td>\n",
              "      <td>NY</td>\n",
              "      <td>4/18/1933 19:00</td>\n",
              "    </tr>\n",
              "  </tbody>\n",
              "</table>\n",
              "</div>"
            ],
            "text/plain": [
              "                   City Colors Reported Shape Reported State             Time\n",
              "0                Ithaca             NaN       TRIANGLE    NY   6/1/1930 22:00\n",
              "1           Willingboro             NaN          OTHER    NJ  6/30/1930 20:00\n",
              "2               Holyoke             NaN           OVAL    CO  2/15/1931 14:00\n",
              "3               Abilene             NaN           DISK    KS   6/1/1931 13:00\n",
              "4  New York Worlds Fair             NaN          LIGHT    NY  4/18/1933 19:00"
            ]
          },
          "metadata": {
            "tags": []
          },
          "execution_count": 70
        }
      ]
    },
    {
      "cell_type": "code",
      "metadata": {
        "id": "iB-aicArz2b0",
        "colab_type": "code",
        "colab": {
          "base_uri": "https://localhost:8080/",
          "height": 34
        },
        "outputId": "6ccce046-7ebf-4132-c215-97be231d8710"
      },
      "source": [
        "# Shape of the data\n",
        "df.shape"
      ],
      "execution_count": 71,
      "outputs": [
        {
          "output_type": "execute_result",
          "data": {
            "text/plain": [
              "(18241, 5)"
            ]
          },
          "metadata": {
            "tags": []
          },
          "execution_count": 71
        }
      ]
    },
    {
      "cell_type": "code",
      "metadata": {
        "id": "d-CTiygiz3RW",
        "colab_type": "code",
        "colab": {
          "base_uri": "https://localhost:8080/",
          "height": 185
        },
        "outputId": "d61343fd-d609-4b29-80a4-cbf909863f85"
      },
      "source": [
        "# Little information of the data\n",
        "df.info()"
      ],
      "execution_count": 72,
      "outputs": [
        {
          "output_type": "stream",
          "text": [
            "<class 'pandas.core.frame.DataFrame'>\n",
            "RangeIndex: 18241 entries, 0 to 18240\n",
            "Data columns (total 5 columns):\n",
            "City               18216 non-null object\n",
            "Colors Reported    2882 non-null object\n",
            "Shape Reported     15597 non-null object\n",
            "State              18241 non-null object\n",
            "Time               18241 non-null object\n",
            "dtypes: object(5)\n",
            "memory usage: 712.7+ KB\n"
          ],
          "name": "stdout"
        }
      ]
    },
    {
      "cell_type": "code",
      "metadata": {
        "id": "KoKw6TDQz9NT",
        "colab_type": "code",
        "colab": {
          "base_uri": "https://localhost:8080/",
          "height": 166
        },
        "outputId": "f28324bd-24c5-4f6c-ac15-738c0b3d0302"
      },
      "source": [
        "# Describing the data \n",
        "df.describe()"
      ],
      "execution_count": 74,
      "outputs": [
        {
          "output_type": "execute_result",
          "data": {
            "text/html": [
              "<div>\n",
              "<style scoped>\n",
              "    .dataframe tbody tr th:only-of-type {\n",
              "        vertical-align: middle;\n",
              "    }\n",
              "\n",
              "    .dataframe tbody tr th {\n",
              "        vertical-align: top;\n",
              "    }\n",
              "\n",
              "    .dataframe thead th {\n",
              "        text-align: right;\n",
              "    }\n",
              "</style>\n",
              "<table border=\"1\" class=\"dataframe\">\n",
              "  <thead>\n",
              "    <tr style=\"text-align: right;\">\n",
              "      <th></th>\n",
              "      <th>City</th>\n",
              "      <th>Colors Reported</th>\n",
              "      <th>Shape Reported</th>\n",
              "      <th>State</th>\n",
              "      <th>Time</th>\n",
              "    </tr>\n",
              "  </thead>\n",
              "  <tbody>\n",
              "    <tr>\n",
              "      <th>count</th>\n",
              "      <td>18216</td>\n",
              "      <td>2882</td>\n",
              "      <td>15597</td>\n",
              "      <td>18241</td>\n",
              "      <td>18241</td>\n",
              "    </tr>\n",
              "    <tr>\n",
              "      <th>unique</th>\n",
              "      <td>6476</td>\n",
              "      <td>27</td>\n",
              "      <td>27</td>\n",
              "      <td>52</td>\n",
              "      <td>16145</td>\n",
              "    </tr>\n",
              "    <tr>\n",
              "      <th>top</th>\n",
              "      <td>Seattle</td>\n",
              "      <td>RED</td>\n",
              "      <td>LIGHT</td>\n",
              "      <td>CA</td>\n",
              "      <td>11/16/1999 19:00</td>\n",
              "    </tr>\n",
              "    <tr>\n",
              "      <th>freq</th>\n",
              "      <td>187</td>\n",
              "      <td>780</td>\n",
              "      <td>2803</td>\n",
              "      <td>2529</td>\n",
              "      <td>27</td>\n",
              "    </tr>\n",
              "  </tbody>\n",
              "</table>\n",
              "</div>"
            ],
            "text/plain": [
              "           City Colors Reported Shape Reported  State              Time\n",
              "count     18216            2882          15597  18241             18241\n",
              "unique     6476              27             27     52             16145\n",
              "top     Seattle             RED          LIGHT     CA  11/16/1999 19:00\n",
              "freq        187             780           2803   2529                27"
            ]
          },
          "metadata": {
            "tags": []
          },
          "execution_count": 74
        }
      ]
    },
    {
      "cell_type": "code",
      "metadata": {
        "id": "u5llAW_cz-i0",
        "colab_type": "code",
        "colab": {
          "base_uri": "https://localhost:8080/",
          "height": 118
        },
        "outputId": "fb1d5d6b-9212-463b-8f9b-012faf23ab16"
      },
      "source": [
        "# let's see the count of null values in every attribute\n",
        "na = df.isna().sum()\n",
        "print(na)"
      ],
      "execution_count": 57,
      "outputs": [
        {
          "output_type": "stream",
          "text": [
            "City                  25\n",
            "Colors Reported    15359\n",
            "Shape Reported      2644\n",
            "State                  0\n",
            "Time                   0\n",
            "dtype: int64\n"
          ],
          "name": "stdout"
        }
      ]
    },
    {
      "cell_type": "markdown",
      "metadata": {
        "id": "1leK3NBs7kPq",
        "colab_type": "text"
      },
      "source": [
        "A count plot to see the count of NaN values in the data."
      ]
    },
    {
      "cell_type": "code",
      "metadata": {
        "id": "TExYwsrY0t-D",
        "colab_type": "code",
        "colab": {
          "base_uri": "https://localhost:8080/",
          "height": 389
        },
        "outputId": "c8577f67-2f2a-4b18-db3a-5d4b89e8e886"
      },
      "source": [
        "# na.plot(kind = 'bar');\n",
        "# or\n",
        "plt.figure(figsize=(12, 6))\n",
        "sns.barplot(x = na.index, y = na, palette='Set1')\n",
        "plt.ylabel('Count of NaN values')\n",
        "plt.xlabel('Attribute')\n",
        "plt.show()\n"
      ],
      "execution_count": 58,
      "outputs": [
        {
          "output_type": "display_data",
          "data": {
            "image/png": "[encoded data removed]",
            "text/plain": [
              "<Figure size 864x432 with 1 Axes>"
            ]
          },
          "metadata": {
            "tags": []
          }
        }
      ]
    },
    {
      "cell_type": "markdown",
      "metadata": {
        "id": "UD9NNFpt7tUn",
        "colab_type": "text"
      },
      "source": [
        "Let's analyse the attributes of the data:\n",
        "\n",
        "**1. City**"
      ]
    },
    {
      "cell_type": "code",
      "metadata": {
        "id": "1DV6tH638O3J",
        "colab_type": "code",
        "colab": {
          "base_uri": "https://localhost:8080/",
          "height": 101
        },
        "outputId": "4ff90ecf-3ce0-4d1a-ec2e-3d9bd209edc5"
      },
      "source": [
        "df.City.describe()"
      ],
      "execution_count": 90,
      "outputs": [
        {
          "output_type": "execute_result",
          "data": {
            "text/plain": [
              "count       18216\n",
              "unique       6476\n",
              "top       Seattle\n",
              "freq          187\n",
              "Name: City, dtype: object"
            ]
          },
          "metadata": {
            "tags": []
          },
          "execution_count": 90
        }
      ]
    },
    {
      "cell_type": "markdown",
      "metadata": {
        "id": "xo-SKGDb9kaY",
        "colab_type": "text"
      },
      "source": [
        "Top 10 cities UFO sightings noted"
      ]
    },
    {
      "cell_type": "code",
      "metadata": {
        "id": "hIqy7q5R8O1O",
        "colab_type": "code",
        "colab": {
          "base_uri": "https://localhost:8080/",
          "height": 388
        },
        "outputId": "aad6cb45-070e-4bc5-98e7-e8e9225b14e4"
      },
      "source": [
        "c = df.City.value_counts()[:10]\n",
        "sns.barplot(y = c.index, x = c)\n",
        "plt.xlabel('Count of UFO Sightings')\n",
        "plt.ylabel('City');"
      ],
      "execution_count": 94,
      "outputs": [
        {
          "output_type": "display_data",
          "data": {
            "image/png": "[encoded data removed]",
            "text/plain": [
              "<Figure size 864x432 with 1 Axes>"
            ]
          },
          "metadata": {
            "tags": []
          }
        }
      ]
    },
    {
      "cell_type": "markdown",
      "metadata": {
        "id": "X-P5JdMi_DBP",
        "colab_type": "text"
      },
      "source": [
        "The seattle has majorly notices UFO's.\n",
        "\n",
        "**2. Colors Reported**"
      ]
    },
    {
      "cell_type": "code",
      "metadata": {
        "id": "CEdJyinh_rEn",
        "colab_type": "code",
        "colab": {
          "base_uri": "https://localhost:8080/",
          "height": 202
        },
        "outputId": "439d4cc3-d0e8-46ff-a517-6a99976e6f6c"
      },
      "source": [
        "# Top 10 colors noticed and it's percentage\n",
        "df.loc[:, 'Colors Reported'].value_counts(normalize=True)[:10]"
      ],
      "execution_count": 99,
      "outputs": [
        {
          "output_type": "execute_result",
          "data": {
            "text/plain": [
              "RED               0.270645\n",
              "GREEN             0.184247\n",
              "ORANGE            0.183206\n",
              "BLUE              0.156142\n",
              "YELLOW            0.058640\n",
              "RED GREEN         0.030881\n",
              "RED BLUE          0.027065\n",
              "RED ORANGE        0.015267\n",
              "GREEN BLUE        0.011797\n",
              "RED GREEN BLUE    0.011450\n",
              "Name: Colors Reported, dtype: float64"
            ]
          },
          "metadata": {
            "tags": []
          },
          "execution_count": 99
        }
      ]
    },
    {
      "cell_type": "code",
      "metadata": {
        "id": "SkUCzKQv3NXN",
        "colab_type": "code",
        "colab": {
          "base_uri": "https://localhost:8080/",
          "height": 497
        },
        "outputId": "e470889b-73c8-4099-92ea-6723aa0d41bd"
      },
      "source": [
        "plt.figure(figsize=(15, 8))\n",
        "sns.countplot(y = 'Colors Reported', data=df, palette='Set2');"
      ],
      "execution_count": 95,
      "outputs": [
        {
          "output_type": "display_data",
          "data": {
            "image/png": "[encoded data removed]",
            "text/plain": [
              "<Figure size 1080x576 with 1 Axes>"
            ]
          },
          "metadata": {
            "tags": []
          }
        }
      ]
    },
    {
      "cell_type": "markdown",
      "metadata": {
        "id": "Y_qx9pfhAAZb",
        "colab_type": "text"
      },
      "source": [
        "**3. Shape Reported**"
      ]
    },
    {
      "cell_type": "code",
      "metadata": {
        "id": "7CYp8Xkq48ap",
        "colab_type": "code",
        "colab": {
          "base_uri": "https://localhost:8080/",
          "height": 202
        },
        "outputId": "63db8eb8-a3d3-40b0-e3f8-9872e1fb283d"
      },
      "source": [
        "# Top 10 shapes of UFO's reported\n",
        "s = df.loc[:, 'Shape Reported'].value_counts()[:10]\n",
        "s"
      ],
      "execution_count": 102,
      "outputs": [
        {
          "output_type": "execute_result",
          "data": {
            "text/plain": [
              "LIGHT        2803\n",
              "DISK         2122\n",
              "TRIANGLE     1889\n",
              "OTHER        1402\n",
              "CIRCLE       1365\n",
              "SPHERE       1054\n",
              "FIREBALL     1039\n",
              "OVAL          845\n",
              "CIGAR         617\n",
              "FORMATION     434\n",
              "Name: Shape Reported, dtype: int64"
            ]
          },
          "metadata": {
            "tags": []
          },
          "execution_count": 102
        }
      ]
    },
    {
      "cell_type": "code",
      "metadata": {
        "id": "KxAbTU3NAjbt",
        "colab_type": "code",
        "colab": {
          "base_uri": "https://localhost:8080/",
          "height": 374
        },
        "outputId": "73bd9163-e99a-4bc6-bbbd-e20e67c8126a"
      },
      "source": [
        "sns.barplot(x = s.index, y = s, palette = 'Dark2');"
      ],
      "execution_count": 122,
      "outputs": [
        {
          "output_type": "display_data",
          "data": {
            "image/png": "[encoded data removed]",
            "text/plain": [
              "<Figure size 864x432 with 1 Axes>"
            ]
          },
          "metadata": {
            "tags": []
          }
        }
      ]
    },
    {
      "cell_type": "markdown",
      "metadata": {
        "id": "pv_56K1dBmCe",
        "colab_type": "text"
      },
      "source": [
        "Ligh, Disk and Triangle are the mostly reported shapes of the UFO's.\n",
        "\n",
        "**4. State**\n"
      ]
    },
    {
      "cell_type": "code",
      "metadata": {
        "id": "96Dwx755AuQE",
        "colab_type": "code",
        "colab": {
          "base_uri": "https://localhost:8080/",
          "height": 907
        },
        "outputId": "1b435854-6f8a-451d-de1a-30185fcf2c00"
      },
      "source": [
        "st = df.State.value_counts()\n",
        "st"
      ],
      "execution_count": 150,
      "outputs": [
        {
          "output_type": "execute_result",
          "data": {
            "text/plain": [
              "CA    2529\n",
              "WA    1322\n",
              "TX    1027\n",
              "NY     914\n",
              "FL     837\n",
              "AZ     738\n",
              "OH     667\n",
              "IL     613\n",
              "PA     598\n",
              "MI     591\n",
              "OR     534\n",
              "MO     448\n",
              "NJ     370\n",
              "CO     367\n",
              "WI     357\n",
              "NC     356\n",
              "IN     326\n",
              "GA     325\n",
              "MA     322\n",
              "VA     299\n",
              "TN     286\n",
              "NV     284\n",
              "MN     254\n",
              "KY     244\n",
              "NM     241\n",
              "CT     225\n",
              "MD     215\n",
              "AR     206\n",
              "UT     193\n",
              "OK     193\n",
              "AL     193\n",
              "ME     181\n",
              "KS     176\n",
              "LA     174\n",
              "SC     166\n",
              "IA     162\n",
              "MT     144\n",
              "MS     139\n",
              "WV     132\n",
              "ID     130\n",
              "NH     125\n",
              "AK     116\n",
              "NE     101\n",
              "HI      85\n",
              "WY      69\n",
              "RI      67\n",
              "SD      57\n",
              "ND      51\n",
              "VT      44\n",
              "DE      43\n",
              "Fl       4\n",
              "Ca       1\n",
              "Name: State, dtype: int64"
            ]
          },
          "metadata": {
            "tags": []
          },
          "execution_count": 150
        }
      ]
    },
    {
      "cell_type": "code",
      "metadata": {
        "id": "D92fnyBYCIwz",
        "colab_type": "code",
        "colab": {
          "base_uri": "https://localhost:8080/",
          "height": 374
        },
        "outputId": "8844243f-9384-47e4-c907-da4ea8577826"
      },
      "source": [
        "sns.barplot(x = st[:20].index, y = st[:20], palette='Set2');"
      ],
      "execution_count": 152,
      "outputs": [
        {
          "output_type": "display_data",
          "data": {
            "image/png": "[encoded data removed]",
            "text/plain": [
              "<Figure size 864x432 with 1 Axes>"
            ]
          },
          "metadata": {
            "tags": []
          }
        }
      ]
    },
    {
      "cell_type": "markdown",
      "metadata": {
        "id": "3QCLpO9AEN-0",
        "colab_type": "text"
      },
      "source": [
        "**California**, **Washinton**, **Texas**, **NewYork** and **Florida** are the top five U.S states have the most UFO sightings."
      ]
    },
    {
      "cell_type": "code",
      "metadata": {
        "id": "U1ZmAYynC4-y",
        "colab_type": "code",
        "colab": {}
      },
      "source": [
        ""
      ],
      "execution_count": 0,
      "outputs": []
    }
  ]
}